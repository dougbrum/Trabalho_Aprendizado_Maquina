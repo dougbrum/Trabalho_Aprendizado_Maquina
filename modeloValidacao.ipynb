{
  "nbformat": 4,
  "nbformat_minor": 0,
  "metadata": {
    "colab": {
      "provenance": []
    },
    "kernelspec": {
      "name": "python3",
      "display_name": "Python 3"
    },
    "language_info": {
      "name": "python"
    }
  },
  "cells": [
    {
      "cell_type": "code",
      "execution_count": 38,
      "metadata": {
        "id": "KTUyECYyVUR9"
      },
      "outputs": [],
      "source": [
        "import pandas as pd\n",
        "import numpy as np\n",
        "import seaborn as sns\n",
        "import matplotlib.pyplot as plt\n",
        "from datetime import date\n",
        "from sklearn.model_selection import train_test_split, GridSearchCV\n",
        "from sklearn.ensemble import RandomForestClassifier, GradientBoostingClassifier\n",
        "from sklearn.metrics import classification_report\n",
        "from sklearn.preprocessing import StandardScaler\n",
        "from sklearn.linear_model import LogisticRegression\n",
        "from sklearn.tree import DecisionTreeClassifier\n",
        "from sklearn.metrics import accuracy_score\n",
        "from sklearn.svm import SVC\n",
        "from sklearn import metrics\n",
        "from sklearn.feature_selection import RFE"
      ]
    },
    {
      "cell_type": "code",
      "source": [
        "from google.colab import drive\n",
        "drive.mount('/content/drive')"
      ],
      "metadata": {
        "colab": {
          "base_uri": "https://localhost:8080/"
        },
        "id": "4l-5I0aWWPaG",
        "outputId": "195d37d5-ded2-4a22-9de3-a25e8e25e1e6"
      },
      "execution_count": 24,
      "outputs": [
        {
          "output_type": "stream",
          "name": "stdout",
          "text": [
            "Drive already mounted at /content/drive; to attempt to forcibly remount, call drive.mount(\"/content/drive\", force_remount=True).\n"
          ]
        }
      ]
    },
    {
      "cell_type": "code",
      "source": [
        "\n",
        "# Carregar o dataset\n",
        "marketing_data = pd.read_csv('/content/drive/MyDrive/AM/marketing_campaign.csv')"
      ],
      "metadata": {
        "id": "rewEW654VZRQ"
      },
      "execution_count": 25,
      "outputs": []
    },
    {
      "cell_type": "code",
      "source": [
        "# Transformações nos Dados\n",
        "marketing_data['Age'] = date.today().year - marketing_data['Year_Birth']\n",
        "marketing_data['Customer_Days'] = (pd.to_datetime('now', utc=True) - pd.to_datetime(marketing_data['Dt_Customer'], utc=True)).dt.days"
      ],
      "metadata": {
        "id": "PFucIKw2VZUx"
      },
      "execution_count": 26,
      "outputs": []
    },
    {
      "cell_type": "code",
      "source": [
        "# Conversão de variáveis categóricas usando variáveis dummy\n",
        "marketing_data = pd.get_dummies(marketing_data, columns=['Marital_Status', 'Education'])\n"
      ],
      "metadata": {
        "id": "c6zXTLxPVZY1"
      },
      "execution_count": 27,
      "outputs": []
    },
    {
      "cell_type": "code",
      "source": [
        "# Remover colunas que não serão mais usadas\n",
        "columns_to_drop = ['Year_Birth', 'Dt_Customer']\n",
        "marketing_data.drop(columns=columns_to_drop, inplace=True)\n"
      ],
      "metadata": {
        "id": "GrFz0YgfVZcX"
      },
      "execution_count": 28,
      "outputs": []
    },
    {
      "cell_type": "code",
      "source": [
        "# Tratamento de outliers e dados faltantes para 'Income' e 'Age'\n",
        "Q1_income = marketing_data['Income'].quantile(0.25)\n",
        "Q3_income = marketing_data['Income'].quantile(0.75)\n",
        "IQR_income = Q3_income - Q1_income\n",
        "marketing_data = marketing_data[(marketing_data['Income'] < Q3_income + 1.5 * IQR_income) & (marketing_data['Income'] > Q1_income - 1.5 * IQR_income)]\n",
        "\n",
        "Q1_age = marketing_data['Age'].quantile(0.25)\n",
        "Q3_age = marketing_data['Age'].quantile(0.75)\n",
        "IQR_age = Q3_age - Q1_age\n",
        "marketing_data = marketing_data[(marketing_data['Age'] < Q3_age + 1.5 * IQR_age) & (marketing_data['Age'] > Q1_age - 1.5 * IQR_age)]\n"
      ],
      "metadata": {
        "id": "Q71r-IMfVZeT"
      },
      "execution_count": 29,
      "outputs": []
    },
    {
      "cell_type": "code",
      "source": [
        "# Dividir o dataset em características e rótulos\n",
        "features = marketing_data.drop(['Response'], axis=1)\n",
        "labels = marketing_data['Response']\n"
      ],
      "metadata": {
        "id": "3a3mjBH4VZgX"
      },
      "execution_count": 8,
      "outputs": []
    },
    {
      "cell_type": "code",
      "source": [
        "# Escalamento dos dados\n",
        "scaler = StandardScaler()\n",
        "features_scaled = scaler.fit_transform(features)\n"
      ],
      "metadata": {
        "id": "dMyQVrNhVZiX"
      },
      "execution_count": 30,
      "outputs": []
    },
    {
      "cell_type": "code",
      "source": [
        "# Dividir o dataset em conjunto de treino e teste\n",
        "X_train, X_test, y_train, y_test = train_test_split(features_scaled, labels, test_size=0.40, random_state=5)\n"
      ],
      "metadata": {
        "id": "hBTlD7V4VZlH"
      },
      "execution_count": 31,
      "outputs": []
    },
    {
      "cell_type": "code",
      "source": [
        "# Regressão Logística\n",
        "param_grid_lr = {'C': [0.01, 0.1, 1, 10], 'penalty': ['l2'], 'solver': ['liblinear', 'lbfgs']}\n",
        "lr_model = GridSearchCV(LogisticRegression(random_state=5), param_grid=param_grid_lr, cv=5, verbose=1)\n",
        "lr_model.fit(X_train, y_train)\n",
        "predictions_lr = lr_model.predict(X_test)\n",
        "print(\"\\nLogistic Regression Model:\")\n",
        "print(\"Accuracy:\", accuracy_score(y_test, predictions_lr))\n",
        "print(classification_report(y_test, predictions_lr))\n"
      ],
      "metadata": {
        "id": "I5th71r1V1rW",
        "colab": {
          "base_uri": "https://localhost:8080/"
        },
        "outputId": "b3e776a9-1aa9-462b-8028-763f9f0a56cf"
      },
      "execution_count": 34,
      "outputs": [
        {
          "output_type": "stream",
          "name": "stdout",
          "text": [
            "Fitting 5 folds for each of 8 candidates, totalling 40 fits\n",
            "\n",
            "Logistic Regression Model:\n",
            "Accuracy: 0.8798185941043084\n",
            "              precision    recall  f1-score   support\n",
            "\n",
            "           0       0.90      0.97      0.93       750\n",
            "           1       0.68      0.37      0.48       132\n",
            "\n",
            "    accuracy                           0.88       882\n",
            "   macro avg       0.79      0.67      0.71       882\n",
            "weighted avg       0.87      0.88      0.86       882\n",
            "\n"
          ]
        }
      ]
    },
    {
      "cell_type": "code",
      "source": [
        "# Árvore de Decisão\n",
        "param_grid_dt = {'max_depth': [None, 10, 20, 30], 'min_samples_split': [2, 4, 6], 'min_samples_leaf': [1, 2, 3]}\n",
        "dt_model = GridSearchCV(DecisionTreeClassifier(random_state=5), param_grid=param_grid_dt, cv=5, verbose=1)\n",
        "dt_model.fit(X_train, y_train)\n",
        "predictions_dt = dt_model.predict(X_test)\n",
        "print(\"\\nDecision Tree Model:\")\n",
        "print(\"Accuracy:\", accuracy_score(y_test, predictions_dt))\n",
        "print(classification_report(y_test, predictions_dt))"
      ],
      "metadata": {
        "id": "bXz_nD4KV1tt",
        "colab": {
          "base_uri": "https://localhost:8080/"
        },
        "outputId": "4a1064f7-08a5-4008-cb1c-20cfee4b9881"
      },
      "execution_count": 35,
      "outputs": [
        {
          "output_type": "stream",
          "name": "stdout",
          "text": [
            "Fitting 5 folds for each of 36 candidates, totalling 180 fits\n",
            "\n",
            "Decision Tree Model:\n",
            "Accuracy: 0.8378684807256236\n",
            "              precision    recall  f1-score   support\n",
            "\n",
            "           0       0.89      0.92      0.91       750\n",
            "           1       0.45      0.38      0.41       132\n",
            "\n",
            "    accuracy                           0.84       882\n",
            "   macro avg       0.67      0.65      0.66       882\n",
            "weighted avg       0.83      0.84      0.83       882\n",
            "\n"
          ]
        }
      ]
    },
    {
      "cell_type": "code",
      "source": [
        "# SVM com K-Fold Cross Validation\n",
        "param_grid_svm = {'C': [0.1, 1, 10], 'gamma': [1, 0.1, 0.01], 'kernel': ['rbf', 'linear']}\n",
        "svm_model = GridSearchCV(SVC(), param_grid_svm, cv=5, verbose=1)\n",
        "svm_model.fit(X_train, y_train)\n",
        "predictions_svm = svm_model.predict(X_test)\n",
        "print(\"\\nSVM Model:\")\n",
        "print(\"Accuracy:\", accuracy_score(y_test, predictions_svm))\n",
        "print(classification_report(y_test, predictions_svm))"
      ],
      "metadata": {
        "id": "36BUwJSfV1wy",
        "colab": {
          "base_uri": "https://localhost:8080/"
        },
        "outputId": "9612e9ce-2897-40a8-aa35-9275f9cf1595"
      },
      "execution_count": 36,
      "outputs": [
        {
          "output_type": "stream",
          "name": "stdout",
          "text": [
            "Fitting 5 folds for each of 18 candidates, totalling 90 fits\n",
            "\n",
            "SVM Model:\n",
            "Accuracy: 0.8866213151927438\n",
            "              precision    recall  f1-score   support\n",
            "\n",
            "           0       0.90      0.97      0.94       750\n",
            "           1       0.71      0.41      0.52       132\n",
            "\n",
            "    accuracy                           0.89       882\n",
            "   macro avg       0.81      0.69      0.73       882\n",
            "weighted avg       0.87      0.89      0.87       882\n",
            "\n"
          ]
        }
      ]
    },
    {
      "cell_type": "code",
      "source": [
        "# RFE com o modelo SVM para identificar as características mais importantes\n",
        "rfe_svm = RFE(estimator=SVC(kernel='linear'), n_features_to_select=10)\n",
        "rfe_svm.fit(X_train, y_train)\n",
        "\n",
        "print(\"\\nTop 10 Features (RFE with SVM):\")\n",
        "top_features_rfe_svm = pd.DataFrame({'Feature': features.columns, 'Ranking': rfe_svm.ranking_}).sort_values('Ranking')\n",
        "print(top_features_rfe_svm.head(10))"
      ],
      "metadata": {
        "colab": {
          "base_uri": "https://localhost:8080/"
        },
        "id": "Sr70CxfhjFsa",
        "outputId": "31e4eb00-ea1c-42a5-89d2-d471d8cdb933"
      },
      "execution_count": 39,
      "outputs": [
        {
          "output_type": "stream",
          "name": "stdout",
          "text": [
            "\n",
            "Top 10 Features (RFE with SVM):\n",
            "                    Feature  Ranking\n",
            "19             AcceptedCmp1        1\n",
            "31  Marital_Status_Together        1\n",
            "29   Marital_Status_Married        1\n",
            "4                   Recency        1\n",
            "25            Customer_Days        1\n",
            "18             AcceptedCmp5        1\n",
            "7           MntMeatProducts        1\n",
            "16             AcceptedCmp3        1\n",
            "14        NumStorePurchases        1\n",
            "11        NumDealsPurchases        1\n"
          ]
        }
      ]
    },
    {
      "cell_type": "code",
      "source": [
        "# RandomForest\n",
        "param_grid_rf = {'n_estimators': [50, 100, 200], 'max_features': ['sqrt'], 'max_depth': [None, 3, 5, 8], 'criterion': ['gini'], 'min_samples_split': [2, 3, 4]}\n",
        "rf_model = GridSearchCV(RandomForestClassifier(random_state=5), param_grid=param_grid_rf, cv=5, verbose=1)\n",
        "rf_model.fit(X_train, y_train)\n",
        "predictions_rf = rf_model.predict(X_test)\n",
        "print(\"RandomForest Model:\")\n",
        "print(\"Accuracy:\", accuracy_score(y_test, predictions_rf))\n",
        "print(classification_report(y_test, predictions_rf))\n",
        "feature_importance_rf = pd.DataFrame({'feature': features.columns, 'importance': rf_model.best_estimator_.feature_importances_}).sort_values('importance', ascending=False)\n",
        "print(feature_importance_rf.head(10))\n"
      ],
      "metadata": {
        "id": "s0AkdKQYVZnZ",
        "colab": {
          "base_uri": "https://localhost:8080/"
        },
        "outputId": "d8578568-7ab4-482a-f72b-1df8d50a3032"
      },
      "execution_count": 32,
      "outputs": [
        {
          "output_type": "stream",
          "name": "stdout",
          "text": [
            "Fitting 5 folds for each of 36 candidates, totalling 180 fits\n",
            "RandomForest Model:\n",
            "Accuracy: 0.8798185941043084\n",
            "              precision    recall  f1-score   support\n",
            "\n",
            "           0       0.88      0.99      0.93       750\n",
            "           1       0.80      0.27      0.40       132\n",
            "\n",
            "    accuracy                           0.88       882\n",
            "   macro avg       0.84      0.63      0.67       882\n",
            "weighted avg       0.87      0.88      0.85       882\n",
            "\n",
            "              feature  importance\n",
            "4             Recency    0.086517\n",
            "25      Customer_Days    0.074622\n",
            "5            MntWines    0.073286\n",
            "1              Income    0.062150\n",
            "7     MntMeatProducts    0.056384\n",
            "19       AcceptedCmp1    0.049899\n",
            "18       AcceptedCmp5    0.048275\n",
            "10       MntGoldProds    0.046737\n",
            "15  NumWebVisitsMonth    0.045837\n",
            "0                  ID    0.045662\n"
          ]
        }
      ]
    },
    {
      "cell_type": "code",
      "source": [
        "#Melhorando parâmetros com optuna"
      ],
      "metadata": {
        "id": "yMxGmUjrrH_R"
      },
      "execution_count": null,
      "outputs": []
    },
    {
      "cell_type": "code",
      "source": [
        "import optuna\n",
        "\n",
        "def objective(trial):\n",
        "    n_estimators = trial.suggest_int('n_estimators', 50, 300)\n",
        "    max_depth = trial.suggest_int('max_depth', 3, 30)\n",
        "    min_samples_split = trial.suggest_int('min_samples_split', 2, 10)\n",
        "    model = RandomForestClassifier(\n",
        "        n_estimators=n_estimators, max_depth=max_depth, min_samples_split=min_samples_split, random_state=5)\n",
        "    model.fit(X_train, y_train)\n",
        "    preds = model.predict(X_test)\n",
        "    accuracy = accuracy_score(y_test, preds)\n",
        "    return accuracy\n",
        "\n",
        "study = optuna.create_study(direction='maximize')\n",
        "study.optimize(objective, n_trials=50)\n",
        "\n",
        "print(\"Best trial:\")\n",
        "trial = study.best_trial\n",
        "print(\"  Accuracy: {}\".format(trial.value))\n",
        "print(\"  Params: \")\n",
        "for key, value in trial.params.items():\n",
        "    print(\"    {}: {}\".format(key, value))\n"
      ],
      "metadata": {
        "colab": {
          "base_uri": "https://localhost:8080/"
        },
        "id": "xBRaOsLbpz8V",
        "outputId": "bcdb7eae-6613-4420-b2ba-d58861d694aa"
      },
      "execution_count": 42,
      "outputs": [
        {
          "output_type": "stream",
          "name": "stderr",
          "text": [
            "[I 2023-12-12 01:33:15,183] A new study created in memory with name: no-name-fd405b9e-984c-4a61-9cd4-55eee49c5a0d\n",
            "[I 2023-12-12 01:33:17,175] Trial 0 finished with value: 0.873015873015873 and parameters: {'n_estimators': 147, 'max_depth': 12, 'min_samples_split': 5}. Best is trial 0 with value: 0.873015873015873.\n",
            "[I 2023-12-12 01:33:17,795] Trial 1 finished with value: 0.8752834467120182 and parameters: {'n_estimators': 84, 'max_depth': 17, 'min_samples_split': 4}. Best is trial 1 with value: 0.8752834467120182.\n",
            "[I 2023-12-12 01:33:19,163] Trial 2 finished with value: 0.8786848072562359 and parameters: {'n_estimators': 190, 'max_depth': 20, 'min_samples_split': 7}. Best is trial 2 with value: 0.8786848072562359.\n",
            "[I 2023-12-12 01:33:20,749] Trial 3 finished with value: 0.8775510204081632 and parameters: {'n_estimators': 178, 'max_depth': 11, 'min_samples_split': 6}. Best is trial 2 with value: 0.8786848072562359.\n",
            "[I 2023-12-12 01:33:22,772] Trial 4 finished with value: 0.8741496598639455 and parameters: {'n_estimators': 197, 'max_depth': 29, 'min_samples_split': 10}. Best is trial 2 with value: 0.8786848072562359.\n",
            "[I 2023-12-12 01:33:23,704] Trial 5 finished with value: 0.8764172335600907 and parameters: {'n_estimators': 110, 'max_depth': 28, 'min_samples_split': 10}. Best is trial 2 with value: 0.8786848072562359.\n",
            "[I 2023-12-12 01:33:25,052] Trial 6 finished with value: 0.8775510204081632 and parameters: {'n_estimators': 164, 'max_depth': 18, 'min_samples_split': 5}. Best is trial 2 with value: 0.8786848072562359.\n",
            "[I 2023-12-12 01:33:26,430] Trial 7 finished with value: 0.8786848072562359 and parameters: {'n_estimators': 113, 'max_depth': 14, 'min_samples_split': 5}. Best is trial 2 with value: 0.8786848072562359.\n",
            "[I 2023-12-12 01:33:28,339] Trial 8 finished with value: 0.8741496598639455 and parameters: {'n_estimators': 299, 'max_depth': 27, 'min_samples_split': 7}. Best is trial 2 with value: 0.8786848072562359.\n",
            "[I 2023-12-12 01:33:29,238] Trial 9 finished with value: 0.8752834467120182 and parameters: {'n_estimators': 171, 'max_depth': 10, 'min_samples_split': 5}. Best is trial 2 with value: 0.8786848072562359.\n",
            "[I 2023-12-12 01:33:30,618] Trial 10 finished with value: 0.8752834467120182 and parameters: {'n_estimators': 242, 'max_depth': 21, 'min_samples_split': 2}. Best is trial 2 with value: 0.8786848072562359.\n",
            "[I 2023-12-12 01:33:30,877] Trial 11 finished with value: 0.86281179138322 and parameters: {'n_estimators': 53, 'max_depth': 5, 'min_samples_split': 8}. Best is trial 2 with value: 0.8786848072562359.\n",
            "[I 2023-12-12 01:33:32,161] Trial 12 finished with value: 0.8764172335600907 and parameters: {'n_estimators': 227, 'max_depth': 23, 'min_samples_split': 8}. Best is trial 2 with value: 0.8786848072562359.\n",
            "[I 2023-12-12 01:33:32,863] Trial 13 finished with value: 0.8741496598639455 and parameters: {'n_estimators': 122, 'max_depth': 14, 'min_samples_split': 3}. Best is trial 2 with value: 0.8786848072562359.\n",
            "[I 2023-12-12 01:33:33,779] Trial 14 finished with value: 0.8605442176870748 and parameters: {'n_estimators': 218, 'max_depth': 5, 'min_samples_split': 8}. Best is trial 2 with value: 0.8786848072562359.\n",
            "[I 2023-12-12 01:33:34,313] Trial 15 finished with value: 0.8741496598639455 and parameters: {'n_estimators': 127, 'max_depth': 21, 'min_samples_split': 7}. Best is trial 2 with value: 0.8786848072562359.\n",
            "[I 2023-12-12 01:33:35,292] Trial 16 finished with value: 0.8752834467120182 and parameters: {'n_estimators': 267, 'max_depth': 15, 'min_samples_split': 6}. Best is trial 2 with value: 0.8786848072562359.\n",
            "[I 2023-12-12 01:33:35,593] Trial 17 finished with value: 0.8707482993197279 and parameters: {'n_estimators': 85, 'max_depth': 8, 'min_samples_split': 4}. Best is trial 2 with value: 0.8786848072562359.\n",
            "[I 2023-12-12 01:33:36,325] Trial 18 finished with value: 0.8798185941043084 and parameters: {'n_estimators': 200, 'max_depth': 23, 'min_samples_split': 9}. Best is trial 18 with value: 0.8798185941043084.\n",
            "[I 2023-12-12 01:33:37,065] Trial 19 finished with value: 0.8798185941043084 and parameters: {'n_estimators': 202, 'max_depth': 24, 'min_samples_split': 9}. Best is trial 18 with value: 0.8798185941043084.\n",
            "[I 2023-12-12 01:33:38,003] Trial 20 finished with value: 0.8764172335600907 and parameters: {'n_estimators': 256, 'max_depth': 25, 'min_samples_split': 9}. Best is trial 18 with value: 0.8798185941043084.\n",
            "[I 2023-12-12 01:33:38,797] Trial 21 finished with value: 0.8798185941043084 and parameters: {'n_estimators': 213, 'max_depth': 20, 'min_samples_split': 9}. Best is trial 18 with value: 0.8798185941043084.\n",
            "[I 2023-12-12 01:33:39,586] Trial 22 finished with value: 0.8786848072562359 and parameters: {'n_estimators': 211, 'max_depth': 24, 'min_samples_split': 9}. Best is trial 18 with value: 0.8798185941043084.\n",
            "[I 2023-12-12 01:33:40,566] Trial 23 finished with value: 0.8775510204081632 and parameters: {'n_estimators': 271, 'max_depth': 26, 'min_samples_split': 9}. Best is trial 18 with value: 0.8798185941043084.\n",
            "[I 2023-12-12 01:33:41,408] Trial 24 finished with value: 0.8741496598639455 and parameters: {'n_estimators': 236, 'max_depth': 19, 'min_samples_split': 10}. Best is trial 18 with value: 0.8798185941043084.\n",
            "[I 2023-12-12 01:33:42,186] Trial 25 finished with value: 0.8786848072562359 and parameters: {'n_estimators': 209, 'max_depth': 30, 'min_samples_split': 9}. Best is trial 18 with value: 0.8798185941043084.\n",
            "[I 2023-12-12 01:33:42,780] Trial 26 finished with value: 0.8741496598639455 and parameters: {'n_estimators': 155, 'max_depth': 23, 'min_samples_split': 8}. Best is trial 18 with value: 0.8798185941043084.\n",
            "[I 2023-12-12 01:33:43,504] Trial 27 finished with value: 0.8764172335600907 and parameters: {'n_estimators': 191, 'max_depth': 22, 'min_samples_split': 10}. Best is trial 18 with value: 0.8798185941043084.\n",
            "[I 2023-12-12 01:33:44,647] Trial 28 finished with value: 0.8764172335600907 and parameters: {'n_estimators': 246, 'max_depth': 26, 'min_samples_split': 9}. Best is trial 18 with value: 0.8798185941043084.\n",
            "[I 2023-12-12 01:33:45,451] Trial 29 finished with value: 0.873015873015873 and parameters: {'n_estimators': 140, 'max_depth': 16, 'min_samples_split': 7}. Best is trial 18 with value: 0.8798185941043084.\n",
            "[I 2023-12-12 01:33:47,037] Trial 30 finished with value: 0.8741496598639455 and parameters: {'n_estimators': 290, 'max_depth': 19, 'min_samples_split': 8}. Best is trial 18 with value: 0.8798185941043084.\n",
            "[I 2023-12-12 01:33:48,103] Trial 31 finished with value: 0.8764172335600907 and parameters: {'n_estimators': 188, 'max_depth': 21, 'min_samples_split': 7}. Best is trial 18 with value: 0.8798185941043084.\n",
            "[I 2023-12-12 01:33:49,231] Trial 32 finished with value: 0.8741496598639455 and parameters: {'n_estimators': 201, 'max_depth': 19, 'min_samples_split': 6}. Best is trial 18 with value: 0.8798185941043084.\n",
            "[I 2023-12-12 01:33:50,219] Trial 33 finished with value: 0.8798185941043084 and parameters: {'n_estimators': 176, 'max_depth': 24, 'min_samples_split': 9}. Best is trial 18 with value: 0.8798185941043084.\n",
            "[I 2023-12-12 01:33:51,151] Trial 34 finished with value: 0.8798185941043084 and parameters: {'n_estimators': 177, 'max_depth': 24, 'min_samples_split': 9}. Best is trial 18 with value: 0.8798185941043084.\n",
            "[I 2023-12-12 01:33:51,969] Trial 35 finished with value: 0.8741496598639455 and parameters: {'n_estimators': 227, 'max_depth': 17, 'min_samples_split': 10}. Best is trial 18 with value: 0.8798185941043084.\n",
            "[I 2023-12-12 01:33:52,600] Trial 36 finished with value: 0.8775510204081632 and parameters: {'n_estimators': 151, 'max_depth': 27, 'min_samples_split': 9}. Best is trial 18 with value: 0.8798185941043084.\n",
            "[I 2023-12-12 01:33:53,307] Trial 37 finished with value: 0.8752834467120182 and parameters: {'n_estimators': 183, 'max_depth': 23, 'min_samples_split': 10}. Best is trial 18 with value: 0.8798185941043084.\n",
            "[I 2023-12-12 01:33:54,059] Trial 38 finished with value: 0.8752834467120182 and parameters: {'n_estimators': 204, 'max_depth': 25, 'min_samples_split': 8}. Best is trial 18 with value: 0.8798185941043084.\n",
            "[I 2023-12-12 01:33:54,873] Trial 39 finished with value: 0.8718820861678005 and parameters: {'n_estimators': 217, 'max_depth': 28, 'min_samples_split': 10}. Best is trial 18 with value: 0.8798185941043084.\n",
            "[I 2023-12-12 01:33:55,487] Trial 40 finished with value: 0.8798185941043084 and parameters: {'n_estimators': 163, 'max_depth': 20, 'min_samples_split': 9}. Best is trial 18 with value: 0.8798185941043084.\n",
            "[I 2023-12-12 01:33:56,145] Trial 41 finished with value: 0.8798185941043084 and parameters: {'n_estimators': 175, 'max_depth': 24, 'min_samples_split': 9}. Best is trial 18 with value: 0.8798185941043084.\n",
            "[I 2023-12-12 01:33:56,852] Trial 42 finished with value: 0.8764172335600907 and parameters: {'n_estimators': 193, 'max_depth': 22, 'min_samples_split': 8}. Best is trial 18 with value: 0.8798185941043084.\n",
            "[I 2023-12-12 01:33:57,457] Trial 43 finished with value: 0.8764172335600907 and parameters: {'n_estimators': 166, 'max_depth': 25, 'min_samples_split': 10}. Best is trial 18 with value: 0.8798185941043084.\n",
            "[I 2023-12-12 01:33:58,115] Trial 44 finished with value: 0.8798185941043084 and parameters: {'n_estimators': 181, 'max_depth': 28, 'min_samples_split': 9}. Best is trial 18 with value: 0.8798185941043084.\n",
            "[I 2023-12-12 01:33:58,955] Trial 45 finished with value: 0.8752834467120182 and parameters: {'n_estimators': 228, 'max_depth': 30, 'min_samples_split': 7}. Best is trial 18 with value: 0.8798185941043084.\n",
            "[I 2023-12-12 01:33:59,510] Trial 46 finished with value: 0.8707482993197279 and parameters: {'n_estimators': 144, 'max_depth': 22, 'min_samples_split': 8}. Best is trial 18 with value: 0.8798185941043084.\n",
            "[I 2023-12-12 01:34:00,239] Trial 47 finished with value: 0.8741496598639455 and parameters: {'n_estimators': 202, 'max_depth': 24, 'min_samples_split': 10}. Best is trial 18 with value: 0.8798185941043084.\n",
            "[I 2023-12-12 01:34:00,892] Trial 48 finished with value: 0.8798185941043084 and parameters: {'n_estimators': 175, 'max_depth': 20, 'min_samples_split': 9}. Best is trial 18 with value: 0.8798185941043084.\n",
            "[I 2023-12-12 01:34:02,029] Trial 49 finished with value: 0.8764172335600907 and parameters: {'n_estimators': 221, 'max_depth': 26, 'min_samples_split': 8}. Best is trial 18 with value: 0.8798185941043084.\n"
          ]
        },
        {
          "output_type": "stream",
          "name": "stdout",
          "text": [
            "Best trial:\n",
            "  Accuracy: 0.8798185941043084\n",
            "  Params: \n",
            "    n_estimators: 200\n",
            "    max_depth: 23\n",
            "    min_samples_split: 9\n"
          ]
        }
      ]
    },
    {
      "cell_type": "code",
      "source": [
        "# Parâmetros obtidos do Optuna\n",
        "optuna_params = {\n",
        "    'n_estimators': 200,\n",
        "    'max_depth': 23,\n",
        "    'min_samples_split': 9,\n",
        "    'random_state': 5\n",
        "}\n",
        "\n",
        "# Criação do modelo RandomForest com os parâmetros do Optuna\n",
        "rf_optuna_model = RandomForestClassifier(**optuna_params)\n",
        "\n",
        "# Treinando o modelo\n",
        "rf_optuna_model.fit(X_train, y_train)\n",
        "\n",
        "# Fazendo previsões no conjunto de teste\n",
        "predictions_rf_optuna = rf_optuna_model.predict(X_test)\n",
        "\n",
        "# Avaliando o modelo\n",
        "print(\"RandomForest Model with Optuna Parameters:\")\n",
        "print(\"Accuracy:\", accuracy_score(y_test, predictions_rf_optuna))\n",
        "print(classification_report(y_test, predictions_rf_optuna))\n",
        "\n",
        "# Importância das características (Feature Importance)\n",
        "feature_importance_rf_optuna = pd.DataFrame({\n",
        "    'feature': features.columns,\n",
        "    'importance': rf_optuna_model.feature_importances_\n",
        "}).sort_values('importance', ascending=False)\n",
        "\n",
        "print(feature_importance_rf_optuna.head(10))"
      ],
      "metadata": {
        "colab": {
          "base_uri": "https://localhost:8080/"
        },
        "id": "KaE_Zdc2qSqK",
        "outputId": "12519149-9920-46fe-a052-8f52d25cb1bf"
      },
      "execution_count": 43,
      "outputs": [
        {
          "output_type": "stream",
          "name": "stdout",
          "text": [
            "RandomForest Model with Optuna Parameters:\n",
            "Accuracy: 0.8798185941043084\n",
            "              precision    recall  f1-score   support\n",
            "\n",
            "           0       0.88      0.99      0.93       750\n",
            "           1       0.80      0.27      0.40       132\n",
            "\n",
            "    accuracy                           0.88       882\n",
            "   macro avg       0.84      0.63      0.67       882\n",
            "weighted avg       0.87      0.88      0.85       882\n",
            "\n",
            "              feature  importance\n",
            "4             Recency    0.089412\n",
            "25      Customer_Days    0.086889\n",
            "5            MntWines    0.074015\n",
            "19       AcceptedCmp1    0.066912\n",
            "1              Income    0.059678\n",
            "18       AcceptedCmp5    0.053534\n",
            "7     MntMeatProducts    0.053341\n",
            "10       MntGoldProds    0.043286\n",
            "15  NumWebVisitsMonth    0.041900\n",
            "24                Age    0.038320\n"
          ]
        }
      ]
    }
  ]
}