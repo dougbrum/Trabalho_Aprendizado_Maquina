{
  "nbformat": 4,
  "nbformat_minor": 0,
  "metadata": {
    "colab": {
      "provenance": []
    },
    "kernelspec": {
      "name": "python3",
      "display_name": "Python 3"
    },
    "language_info": {
      "name": "python"
    }
  },
  "cells": [
    {
      "cell_type": "code",
      "execution_count": 23,
      "metadata": {
        "id": "KTUyECYyVUR9"
      },
      "outputs": [],
      "source": [
        "import pandas as pd\n",
        "import numpy as np\n",
        "import seaborn as sns\n",
        "import matplotlib.pyplot as plt\n",
        "from datetime import date\n",
        "from sklearn.model_selection import train_test_split, GridSearchCV\n",
        "from sklearn.ensemble import RandomForestClassifier, GradientBoostingClassifier\n",
        "from sklearn.metrics import classification_report\n",
        "from sklearn.preprocessing import StandardScaler\n",
        "from sklearn.linear_model import LogisticRegression\n",
        "from sklearn.tree import DecisionTreeClassifier\n",
        "from sklearn.metrics import accuracy_score\n",
        "from sklearn.svm import SVC\n",
        "from sklearn import metrics"
      ]
    },
    {
      "cell_type": "code",
      "source": [
        "from google.colab import drive\n",
        "drive.mount('/content/drive')"
      ],
      "metadata": {
        "colab": {
          "base_uri": "https://localhost:8080/"
        },
        "id": "4l-5I0aWWPaG",
        "outputId": "195d37d5-ded2-4a22-9de3-a25e8e25e1e6"
      },
      "execution_count": 24,
      "outputs": [
        {
          "output_type": "stream",
          "name": "stdout",
          "text": [
            "Drive already mounted at /content/drive; to attempt to forcibly remount, call drive.mount(\"/content/drive\", force_remount=True).\n"
          ]
        }
      ]
    },
    {
      "cell_type": "code",
      "source": [
        "\n",
        "# Carregar o dataset\n",
        "marketing_data = pd.read_csv('/content/drive/MyDrive/AM/marketing_campaign.csv')"
      ],
      "metadata": {
        "id": "rewEW654VZRQ"
      },
      "execution_count": 25,
      "outputs": []
    },
    {
      "cell_type": "code",
      "source": [
        "# Transformações nos Dados\n",
        "marketing_data['Age'] = date.today().year - marketing_data['Year_Birth']\n",
        "marketing_data['Customer_Days'] = (pd.to_datetime('now', utc=True) - pd.to_datetime(marketing_data['Dt_Customer'], utc=True)).dt.days"
      ],
      "metadata": {
        "id": "PFucIKw2VZUx"
      },
      "execution_count": 26,
      "outputs": []
    },
    {
      "cell_type": "code",
      "source": [
        "# Conversão de variáveis categóricas usando variáveis dummy\n",
        "marketing_data = pd.get_dummies(marketing_data, columns=['Marital_Status', 'Education'])\n"
      ],
      "metadata": {
        "id": "c6zXTLxPVZY1"
      },
      "execution_count": 27,
      "outputs": []
    },
    {
      "cell_type": "code",
      "source": [
        "# Remover colunas que não serão mais usadas\n",
        "columns_to_drop = ['Year_Birth', 'Dt_Customer']\n",
        "marketing_data.drop(columns=columns_to_drop, inplace=True)\n"
      ],
      "metadata": {
        "id": "GrFz0YgfVZcX"
      },
      "execution_count": 28,
      "outputs": []
    },
    {
      "cell_type": "code",
      "source": [
        "# Tratamento de outliers e dados faltantes para 'Income' e 'Age'\n",
        "Q1_income = marketing_data['Income'].quantile(0.25)\n",
        "Q3_income = marketing_data['Income'].quantile(0.75)\n",
        "IQR_income = Q3_income - Q1_income\n",
        "marketing_data = marketing_data[(marketing_data['Income'] < Q3_income + 1.5 * IQR_income) & (marketing_data['Income'] > Q1_income - 1.5 * IQR_income)]\n",
        "\n",
        "Q1_age = marketing_data['Age'].quantile(0.25)\n",
        "Q3_age = marketing_data['Age'].quantile(0.75)\n",
        "IQR_age = Q3_age - Q1_age\n",
        "marketing_data = marketing_data[(marketing_data['Age'] < Q3_age + 1.5 * IQR_age) & (marketing_data['Age'] > Q1_age - 1.5 * IQR_age)]\n"
      ],
      "metadata": {
        "id": "Q71r-IMfVZeT"
      },
      "execution_count": 29,
      "outputs": []
    },
    {
      "cell_type": "code",
      "source": [
        "# Dividir o dataset em características e rótulos\n",
        "features = marketing_data.drop(['Response'], axis=1)\n",
        "labels = marketing_data['Response']\n"
      ],
      "metadata": {
        "id": "3a3mjBH4VZgX"
      },
      "execution_count": 8,
      "outputs": []
    },
    {
      "cell_type": "code",
      "source": [
        "# Escalamento dos dados\n",
        "scaler = StandardScaler()\n",
        "features_scaled = scaler.fit_transform(features)\n"
      ],
      "metadata": {
        "id": "dMyQVrNhVZiX"
      },
      "execution_count": 30,
      "outputs": []
    },
    {
      "cell_type": "code",
      "source": [
        "# Dividir o dataset em conjunto de treino e teste\n",
        "X_train, X_test, y_train, y_test = train_test_split(features_scaled, labels, test_size=0.40, random_state=5)\n"
      ],
      "metadata": {
        "id": "hBTlD7V4VZlH"
      },
      "execution_count": 31,
      "outputs": []
    },
    {
      "cell_type": "code",
      "source": [
        "# Regressão Logística\n",
        "param_grid_lr = {'C': [0.01, 0.1, 1, 10], 'penalty': ['l2'], 'solver': ['liblinear', 'lbfgs']}\n",
        "lr_model = GridSearchCV(LogisticRegression(random_state=5), param_grid=param_grid_lr, cv=5, verbose=1)\n",
        "lr_model.fit(X_train, y_train)\n",
        "predictions_lr = lr_model.predict(X_test)\n",
        "print(\"\\nLogistic Regression Model:\")\n",
        "print(\"Accuracy:\", accuracy_score(y_test, predictions_lr))\n",
        "print(classification_report(y_test, predictions_lr))\n"
      ],
      "metadata": {
        "id": "I5th71r1V1rW",
        "colab": {
          "base_uri": "https://localhost:8080/"
        },
        "outputId": "b3e776a9-1aa9-462b-8028-763f9f0a56cf"
      },
      "execution_count": 34,
      "outputs": [
        {
          "output_type": "stream",
          "name": "stdout",
          "text": [
            "Fitting 5 folds for each of 8 candidates, totalling 40 fits\n",
            "\n",
            "Logistic Regression Model:\n",
            "Accuracy: 0.8798185941043084\n",
            "              precision    recall  f1-score   support\n",
            "\n",
            "           0       0.90      0.97      0.93       750\n",
            "           1       0.68      0.37      0.48       132\n",
            "\n",
            "    accuracy                           0.88       882\n",
            "   macro avg       0.79      0.67      0.71       882\n",
            "weighted avg       0.87      0.88      0.86       882\n",
            "\n"
          ]
        }
      ]
    },
    {
      "cell_type": "code",
      "source": [
        "# Árvore de Decisão\n",
        "param_grid_dt = {'max_depth': [None, 10, 20, 30], 'min_samples_split': [2, 4, 6], 'min_samples_leaf': [1, 2, 3]}\n",
        "dt_model = GridSearchCV(DecisionTreeClassifier(random_state=5), param_grid=param_grid_dt, cv=5, verbose=1)\n",
        "dt_model.fit(X_train, y_train)\n",
        "predictions_dt = dt_model.predict(X_test)\n",
        "print(\"\\nDecision Tree Model:\")\n",
        "print(\"Accuracy:\", accuracy_score(y_test, predictions_dt))\n",
        "print(classification_report(y_test, predictions_dt))"
      ],
      "metadata": {
        "id": "bXz_nD4KV1tt",
        "colab": {
          "base_uri": "https://localhost:8080/"
        },
        "outputId": "4a1064f7-08a5-4008-cb1c-20cfee4b9881"
      },
      "execution_count": 35,
      "outputs": [
        {
          "output_type": "stream",
          "name": "stdout",
          "text": [
            "Fitting 5 folds for each of 36 candidates, totalling 180 fits\n",
            "\n",
            "Decision Tree Model:\n",
            "Accuracy: 0.8378684807256236\n",
            "              precision    recall  f1-score   support\n",
            "\n",
            "           0       0.89      0.92      0.91       750\n",
            "           1       0.45      0.38      0.41       132\n",
            "\n",
            "    accuracy                           0.84       882\n",
            "   macro avg       0.67      0.65      0.66       882\n",
            "weighted avg       0.83      0.84      0.83       882\n",
            "\n"
          ]
        }
      ]
    },
    {
      "cell_type": "code",
      "source": [
        "# SVM com K-Fold Cross Validation\n",
        "param_grid_svm = {'C': [0.1, 1, 10], 'gamma': [1, 0.1, 0.01], 'kernel': ['rbf', 'linear']}\n",
        "svm_model = GridSearchCV(SVC(), param_grid_svm, cv=5, verbose=1)\n",
        "svm_model.fit(X_train, y_train)\n",
        "predictions_svm = svm_model.predict(X_test)\n",
        "print(\"\\nSVM Model:\")\n",
        "print(\"Accuracy:\", accuracy_score(y_test, predictions_svm))\n",
        "print(classification_report(y_test, predictions_svm))"
      ],
      "metadata": {
        "id": "36BUwJSfV1wy",
        "colab": {
          "base_uri": "https://localhost:8080/"
        },
        "outputId": "9612e9ce-2897-40a8-aa35-9275f9cf1595"
      },
      "execution_count": 36,
      "outputs": [
        {
          "output_type": "stream",
          "name": "stdout",
          "text": [
            "Fitting 5 folds for each of 18 candidates, totalling 90 fits\n",
            "\n",
            "SVM Model:\n",
            "Accuracy: 0.8866213151927438\n",
            "              precision    recall  f1-score   support\n",
            "\n",
            "           0       0.90      0.97      0.94       750\n",
            "           1       0.71      0.41      0.52       132\n",
            "\n",
            "    accuracy                           0.89       882\n",
            "   macro avg       0.81      0.69      0.73       882\n",
            "weighted avg       0.87      0.89      0.87       882\n",
            "\n"
          ]
        }
      ]
    },
    {
      "cell_type": "code",
      "source": [
        "# RandomForest\n",
        "param_grid_rf = {'n_estimators': [50, 100, 200], 'max_features': ['sqrt'], 'max_depth': [None, 3, 5, 8], 'criterion': ['gini'], 'min_samples_split': [2, 3, 4]}\n",
        "rf_model = GridSearchCV(RandomForestClassifier(random_state=5), param_grid=param_grid_rf, cv=5, verbose=1)\n",
        "rf_model.fit(X_train, y_train)\n",
        "predictions_rf = rf_model.predict(X_test)\n",
        "print(\"RandomForest Model:\")\n",
        "print(\"Accuracy:\", accuracy_score(y_test, predictions_rf))\n",
        "print(classification_report(y_test, predictions_rf))\n",
        "feature_importance_rf = pd.DataFrame({'feature': features.columns, 'importance': rf_model.best_estimator_.feature_importances_}).sort_values('importance', ascending=False)\n",
        "print(feature_importance_rf.head(10))\n"
      ],
      "metadata": {
        "id": "s0AkdKQYVZnZ",
        "colab": {
          "base_uri": "https://localhost:8080/"
        },
        "outputId": "d8578568-7ab4-482a-f72b-1df8d50a3032"
      },
      "execution_count": 32,
      "outputs": [
        {
          "output_type": "stream",
          "name": "stdout",
          "text": [
            "Fitting 5 folds for each of 36 candidates, totalling 180 fits\n",
            "RandomForest Model:\n",
            "Accuracy: 0.8798185941043084\n",
            "              precision    recall  f1-score   support\n",
            "\n",
            "           0       0.88      0.99      0.93       750\n",
            "           1       0.80      0.27      0.40       132\n",
            "\n",
            "    accuracy                           0.88       882\n",
            "   macro avg       0.84      0.63      0.67       882\n",
            "weighted avg       0.87      0.88      0.85       882\n",
            "\n",
            "              feature  importance\n",
            "4             Recency    0.086517\n",
            "25      Customer_Days    0.074622\n",
            "5            MntWines    0.073286\n",
            "1              Income    0.062150\n",
            "7     MntMeatProducts    0.056384\n",
            "19       AcceptedCmp1    0.049899\n",
            "18       AcceptedCmp5    0.048275\n",
            "10       MntGoldProds    0.046737\n",
            "15  NumWebVisitsMonth    0.045837\n",
            "0                  ID    0.045662\n"
          ]
        }
      ]
    }
  ]
}