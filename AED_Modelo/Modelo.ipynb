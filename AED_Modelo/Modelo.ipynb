{
  "nbformat": 4,
  "nbformat_minor": 0,
  "metadata": {
    "colab": {
      "provenance": []
    },
    "kernelspec": {
      "name": "python3",
      "display_name": "Python 3"
    },
    "language_info": {
      "name": "python"
    }
  },
  "cells": [
    {
      "cell_type": "code",
      "execution_count": null,
      "metadata": {
        "id": "UnnFyvUGwQK6"
      },
      "outputs": [],
      "source": [
        "# Importações\n",
        "import pandas as pd\n",
        "import numpy as np\n",
        "import seaborn as sns\n",
        "import matplotlib.pyplot as plt\n",
        "from datetime import date\n",
        "from sklearn.model_selection import train_test_split, cross_val_score\n",
        "from sklearn.ensemble import RandomForestClassifier\n",
        "from sklearn.metrics import classification_report, accuracy_score\n",
        "from sklearn.preprocessing import StandardScaler\n",
        "from sklearn.neighbors import KNeighborsClassifier\n",
        "from sklearn.naive_bayes import GaussianNB\n",
        "from sklearn.tree import DecisionTreeClassifier\n",
        "from sklearn import metrics\n",
        "from imblearn.under_sampling import RandomUnderSampler\n",
        "from sklearn.svm import SVC\n",
        "from imblearn.over_sampling import SMOTE\n",
        "from imblearn.over_sampling import SMOTE\n",
        "from sklearn.model_selection import StratifiedKFold, train_test_split\n",
        "from sklearn.base import clone\n",
        "from sklearn.ensemble import RandomForestClassifier\n",
        "import numpy as np\n",
        "import pandas as pd\n",
        "from sklearn.metrics import classification_report, accuracy_score\n",
        "from sklearn.preprocessing import StandardScaler"
      ]
    },
    {
      "cell_type": "code",
      "source": [
        "# Carregar o dataset\n",
        "marketing_data = pd.read_csv('/content/drive/MyDrive/AM/marketing_campaign.csv')"
      ],
      "metadata": {
        "id": "PuFI8gIAwVwp"
      },
      "execution_count": null,
      "outputs": []
    },
    {
      "cell_type": "code",
      "source": [
        "# Transformações nos Dados\n",
        "marketing_data['Age'] = date.today().year - marketing_data['Year_Birth']\n",
        "marketing_data['Customer_Days'] = (pd.to_datetime('now', utc=True) - pd.to_datetime(marketing_data['Dt_Customer'], utc=True)).dt.days\n",
        "marketing_data = pd.get_dummies(marketing_data, columns=['Marital_Status', 'Education'])\n"
      ],
      "metadata": {
        "id": "YVFvIGOowVzI"
      },
      "execution_count": null,
      "outputs": []
    },
    {
      "cell_type": "code",
      "source": [
        "# Remover colunas que não serão mais usadas\n",
        "columns_to_drop = ['Year_Birth', 'Dt_Customer']\n",
        "marketing_data.drop(columns=columns_to_drop, inplace=True)\n"
      ],
      "metadata": {
        "id": "8mZbzoT_wV1u"
      },
      "execution_count": null,
      "outputs": []
    },
    {
      "cell_type": "code",
      "source": [
        "# Tratamento de outliers e dados faltantes para 'Income' e 'Age'\n",
        "Q1_income = marketing_data['Income'].quantile(0.25)\n",
        "Q3_income = marketing_data['Income'].quantile(0.75)\n",
        "IQR_income = Q3_income - Q1_income\n",
        "marketing_data = marketing_data[(marketing_data['Income'] < Q3_income + 1.5 * IQR_income) & (marketing_data['Income'] > Q1_income - 1.5 * IQR_income)]\n",
        "Q1_age = marketing_data['Age'].quantile(0.25)\n",
        "Q3_age = marketing_data['Age'].quantile(0.75)\n",
        "IQR_age = Q3_age - Q1_age\n",
        "marketing_data = marketing_data[(marketing_data['Age'] < Q3_age + 1.5 * IQR_age) & (marketing_data['Age'] > Q1_age - 1.5 * IQR_age)]\n"
      ],
      "metadata": {
        "id": "SFsE1_H6wV38"
      },
      "execution_count": null,
      "outputs": []
    },
    {
      "cell_type": "code",
      "source": [
        "# Dividir o dataset em características e rótulos\n",
        "features = marketing_data.drop(['Response'], axis=1)\n",
        "labels = marketing_data['Response']\n"
      ],
      "metadata": {
        "id": "4QY0a_szwV6L"
      },
      "execution_count": null,
      "outputs": []
    },
    {
      "cell_type": "code",
      "source": [
        "# Escalamento dos dados\n",
        "scaler = StandardScaler()\n",
        "features_scaled = scaler.fit_transform(features)\n"
      ],
      "metadata": {
        "id": "PWmYMA62wV8O"
      },
      "execution_count": null,
      "outputs": []
    },
    {
      "cell_type": "code",
      "source": [
        "# Dividir o dataset em conjunto de treino e teste\n",
        "X, X_valid, y, y_valid = train_test_split(features_scaled, labels, test_size=0.2, random_state=5)\n",
        "X_train, X_test, y_train, y_test = train_test_split(X, y, test_size=0.3)"
      ],
      "metadata": {
        "id": "XtD5BL8jwV-T"
      },
      "execution_count": null,
      "outputs": []
    },
    {
      "cell_type": "code",
      "source": [
        "# Função para aplicar SMOTE em cada fold da validação cruzada\n",
        "def cross_val_score_smote(model, X, y, cv=5, smote_proportion=0.4):\n",
        "    skf = StratifiedKFold(n_splits=cv)\n",
        "    scores = []\n",
        "\n",
        "    for train_index, test_index in skf.split(X, y):\n",
        "        X_train_fold, X_test_fold = X[train_index], X[test_index]\n",
        "        y_train_fold, y_test_fold = y[train_index], y[test_index]\n",
        "\n",
        "        # Contando as classes na dobra de treinamento\n",
        "        class_counts = np.bincount(y_train_fold)\n",
        "        minority_class = np.argmin(class_counts)\n",
        "        majority_class = np.argmax(class_counts)\n",
        "\n",
        "        # Aplicando SMOTE\n",
        "        smote = SMOTE(sampling_strategy={minority_class: int(class_counts[majority_class] * smote_proportion)})\n",
        "        X_train_fold_smote, y_train_fold_smote = smote.fit_resample(X_train_fold, y_train_fold)\n",
        "\n",
        "        # Clonar o modelo para garantir que cada fold use um modelo \"fresco\"\n",
        "        cloned_model = clone(model)\n",
        "        cloned_model.fit(X_train_fold_smote, y_train_fold_smote)\n",
        "\n",
        "        # Avaliar o modelo\n",
        "        score = cloned_model.score(X_test_fold, y_test_fold)\n",
        "        scores.append(score)\n",
        "\n",
        "    return scores\n"
      ],
      "metadata": {
        "id": "y_YBt6B5CLr3"
      },
      "execution_count": null,
      "outputs": []
    },
    {
      "cell_type": "code",
      "source": [
        "# Conversão para arrays NumPy\n",
        "features_scaled_np = np.array(features_scaled)\n",
        "labels_np = np.array(labels)"
      ],
      "metadata": {
        "id": "JizvpirpwWEQ"
      },
      "execution_count": null,
      "outputs": []
    },
    {
      "cell_type": "code",
      "source": [
        "# KNN\n",
        "for k in [3, 5, 7]:\n",
        "    # Opcional: Treinar o modelo no conjunto completo e avaliar no conjunto de teste\n",
        "    # Isso é útil para ver o desempenho do modelo em dados não vistos\n",
        "    # Aplicar SMOTE ao conjunto de treinamento completo\n",
        "    smote = SMOTE(sampling_strategy=0.4, random_state=5)\n",
        "    X_train_smote, y_train_smote = smote.fit_resample(X_train, y_train)\n",
        "    knn_model.fit(X_train_smote, y_train_smote)\n",
        "\n",
        "    # Fazendo previsões no conjunto de teste\n",
        "    predictions_knn = knn_model.predict(X_test)\n",
        "    print(\"Accuracy:\", accuracy_score(y_test, predictions_knn))\n",
        "    print(classification_report(y_test, predictions_knn))\n",
        "\n",
        "    knn_model = KNeighborsClassifier(n_neighbors=k)\n",
        "    scores_knn = cross_val_score_smote(knn_model, features_scaled_np, labels_np, cv=5, smote_proportion=0.4)\n",
        "    print(f\"\\nKNN Model (k={k}):\")\n",
        "    print(\"Média da Acurácia com CV:\", np.mean(scores_knn))\n",
        "    print(\"Desvio padrão da acurácia com CV:\", np.std(scores_knn))"
      ],
      "metadata": {
        "colab": {
          "base_uri": "https://localhost:8080/"
        },
        "id": "0l4HbRtywWIL",
        "outputId": "a78d3054-4cb3-460d-a7e7-34ef0d7262fb"
      },
      "execution_count": null,
      "outputs": [
        {
          "output_type": "stream",
          "name": "stdout",
          "text": [
            "\n",
            "KNN Model (k=3):\n",
            "Média da Acurácia com CV: 0.8263038548752834\n",
            "Desvio padrão da acurácia com CV: 0.013948804080933982\n",
            "Accuracy: 0.8226415094339623\n",
            "              precision    recall  f1-score   support\n",
            "\n",
            "           0       0.92      0.86      0.89       453\n",
            "           1       0.42      0.58      0.49        77\n",
            "\n",
            "    accuracy                           0.82       530\n",
            "   macro avg       0.67      0.72      0.69       530\n",
            "weighted avg       0.85      0.82      0.83       530\n",
            "\n",
            "\n",
            "KNN Model (k=5):\n",
            "Média da Acurácia com CV: 0.8258503401360544\n",
            "Desvio padrão da acurácia com CV: 0.0100798688303369\n",
            "Accuracy: 0.8358490566037736\n",
            "              precision    recall  f1-score   support\n",
            "\n",
            "           0       0.93      0.88      0.90       453\n",
            "           1       0.45      0.58      0.51        77\n",
            "\n",
            "    accuracy                           0.84       530\n",
            "   macro avg       0.69      0.73      0.70       530\n",
            "weighted avg       0.86      0.84      0.84       530\n",
            "\n",
            "\n",
            "KNN Model (k=7):\n",
            "Média da Acurácia com CV: 0.8344671201814059\n",
            "Desvio padrão da acurácia com CV: 0.006877891559230433\n",
            "Accuracy: 0.8283018867924529\n",
            "              precision    recall  f1-score   support\n",
            "\n",
            "           0       0.92      0.87      0.90       453\n",
            "           1       0.43      0.57      0.49        77\n",
            "\n",
            "    accuracy                           0.83       530\n",
            "   macro avg       0.68      0.72      0.69       530\n",
            "weighted avg       0.85      0.83      0.84       530\n",
            "\n"
          ]
        }
      ]
    },
    {
      "cell_type": "code",
      "source": [
        "\n",
        "# Naive Bayes\n",
        "nb_model = GaussianNB()\n",
        "nb_model.fit(X_train_smote, y_train_smote)\n",
        "predictions_nb = nb_model.predict(X_test)\n",
        "print(\"\\nNaive Bayes Model:\")\n",
        "print(\"Accuracy:\", accuracy_score(y_test, predictions_nb))\n",
        "print(classification_report(y_test, predictions_nb))\n",
        "\n",
        "# Usar a função cross_val_score_smote com arrays NumPy\n",
        "scores_nb = cross_val_score_smote(nb_model, features_scaled_np, labels_np, cv=5, smote_proportion=0.4)\n",
        "print(\"Média da Acurácia com CV:\", np.mean(scores_nb))\n",
        "print(\"Desvio padrão da acurácia com CV:\", np.std(scores_nb))"
      ],
      "metadata": {
        "colab": {
          "base_uri": "https://localhost:8080/"
        },
        "id": "LzciFH8jwWJl",
        "outputId": "38b115d5-f081-455f-9ec7-2268b2ed1118"
      },
      "execution_count": null,
      "outputs": [
        {
          "output_type": "stream",
          "name": "stdout",
          "text": [
            "\n",
            "Naive Bayes Model:\n",
            "Accuracy: 0.7981132075471699\n",
            "              precision    recall  f1-score   support\n",
            "\n",
            "           0       0.93      0.83      0.88       453\n",
            "           1       0.38      0.62      0.47        77\n",
            "\n",
            "    accuracy                           0.80       530\n",
            "   macro avg       0.65      0.73      0.67       530\n",
            "weighted avg       0.85      0.80      0.82       530\n",
            "\n",
            "Média da Acurácia com CV: 0.8045351473922903\n",
            "Desvio padrão da acurácia com CV: 0.011597924582806741\n"
          ]
        }
      ]
    },
    {
      "cell_type": "code",
      "source": [
        "# Árvore de Decisão\n",
        "dt_model = DecisionTreeClassifier(random_state=5)\n",
        "dt_model.fit(X_train_smote, y_train_smote)\n",
        "predictions_dt = dt_model.predict(X_test)\n",
        "print(\"\\nDecision Tree Model:\")\n",
        "print(\"Accuracy:\", accuracy_score(y_test, predictions_dt))\n",
        "print(classification_report(y_test, predictions_dt))\n",
        "\n",
        "# Usar a função cross_val_score_smote para validação cruzada\n",
        "scores_dt = cross_val_score_smote(dt_model, features_scaled_np, labels_np, cv=5, smote_proportion=0.4)\n",
        "print(\"Média da Acurácia com CV:\", np.mean(scores_dt))\n",
        "print(\"Desvio padrão da acurácia com CV:\", np.std(scores_dt))\n"
      ],
      "metadata": {
        "colab": {
          "base_uri": "https://localhost:8080/"
        },
        "id": "svmr1_MfwWLW",
        "outputId": "04b82fca-befb-48f7-df4d-054a5081d1f5"
      },
      "execution_count": null,
      "outputs": [
        {
          "output_type": "stream",
          "name": "stdout",
          "text": [
            "\n",
            "Decision Tree Model:\n",
            "Accuracy: 0.7981132075471699\n",
            "              precision    recall  f1-score   support\n",
            "\n",
            "           0       0.89      0.87      0.88       453\n",
            "           1       0.33      0.36      0.34        77\n",
            "\n",
            "    accuracy                           0.80       530\n",
            "   macro avg       0.61      0.62      0.61       530\n",
            "weighted avg       0.81      0.80      0.80       530\n",
            "\n",
            "Média da Acurácia com CV: 0.8222222222222222\n",
            "Desvio padrão da acurácia com CV: 0.014667538892332181\n"
          ]
        }
      ]
    },
    {
      "cell_type": "code",
      "source": [
        "# RandomForest\n",
        "rf_model = RandomForestClassifier(random_state=5)\n",
        "rf_model.fit(X_train_smote, y_train_smote)\n",
        "predictions_rf = rf_model.predict(X_test)\n",
        "print(\"\\nRandomForest Model:\")\n",
        "print(\"Accuracy:\", accuracy_score(y_test, predictions_rf))\n",
        "print(classification_report(y_test, predictions_rf))\n",
        "\n",
        "# Usar a função cross_val_score_smote para validação cruzada\n",
        "scores_rf = cross_val_score_smote(rf_model, features_scaled_np, labels_np, cv=5, smote_proportion=0.4)\n",
        "print(\"Média da Acurácia com CV:\", np.mean(scores_rf))\n",
        "print(\"Desvio padrão da acurácia com CV:\", np.std(scores_rf))"
      ],
      "metadata": {
        "colab": {
          "base_uri": "https://localhost:8080/"
        },
        "id": "Kk2L9ZZPwWNX",
        "outputId": "15408844-2bc8-4fe5-d59e-6ead26818ee4"
      },
      "execution_count": null,
      "outputs": [
        {
          "output_type": "stream",
          "name": "stdout",
          "text": [
            "\n",
            "RandomForest Model:\n",
            "Accuracy: 0.9\n",
            "              precision    recall  f1-score   support\n",
            "\n",
            "           0       0.91      0.98      0.94       453\n",
            "           1       0.80      0.42      0.55        77\n",
            "\n",
            "    accuracy                           0.90       530\n",
            "   macro avg       0.85      0.70      0.75       530\n",
            "weighted avg       0.89      0.90      0.89       530\n",
            "\n",
            "Média da Acurácia com CV: 0.8829931972789117\n",
            "Desvio padrão da acurácia com CV: 0.0058431286742517494\n"
          ]
        }
      ]
    },
    {
      "cell_type": "markdown",
      "source": [
        "\n",
        "#validação\n"
      ],
      "metadata": {
        "id": "33NV9akxY7iQ"
      }
    },
    {
      "cell_type": "code",
      "source": [
        "for k in [3, 5, 7]:\n",
        "    knn_model = KNeighborsClassifier(n_neighbors=k)\n",
        "    knn_model.fit(X, y)\n",
        "    # Fazendo previsões no conjunto de teste\n",
        "    predictions_knn = knn_model.predict(X_valid)\n",
        "    print(\"Accuracy:\", accuracy_score(y_valid, predictions_knn))\n",
        "    print(classification_report(y_valid, predictions_knn))"
      ],
      "metadata": {
        "id": "fMJNO11Caivs",
        "colab": {
          "base_uri": "https://localhost:8080/"
        },
        "outputId": "10e6e199-37e5-4de7-aabe-cbfae79a6040"
      },
      "execution_count": null,
      "outputs": [
        {
          "output_type": "stream",
          "name": "stdout",
          "text": [
            "Accuracy: 0.8412698412698413\n",
            "              precision    recall  f1-score   support\n",
            "\n",
            "           0       0.87      0.96      0.91       370\n",
            "           1       0.52      0.24      0.33        71\n",
            "\n",
            "    accuracy                           0.84       441\n",
            "   macro avg       0.69      0.60      0.62       441\n",
            "weighted avg       0.81      0.84      0.82       441\n",
            "\n",
            "Accuracy: 0.8390022675736961\n",
            "              precision    recall  f1-score   support\n",
            "\n",
            "           0       0.86      0.96      0.91       370\n",
            "           1       0.50      0.18      0.27        71\n",
            "\n",
            "    accuracy                           0.84       441\n",
            "   macro avg       0.68      0.57      0.59       441\n",
            "weighted avg       0.80      0.84      0.81       441\n",
            "\n",
            "Accuracy: 0.8526077097505669\n",
            "              precision    recall  f1-score   support\n",
            "\n",
            "           0       0.86      0.98      0.92       370\n",
            "           1       0.64      0.20      0.30        71\n",
            "\n",
            "    accuracy                           0.85       441\n",
            "   macro avg       0.75      0.59      0.61       441\n",
            "weighted avg       0.83      0.85      0.82       441\n",
            "\n"
          ]
        }
      ]
    },
    {
      "cell_type": "code",
      "source": [
        "nb_model = GaussianNB()\n",
        "nb_model.fit(X, y)\n",
        "predictions_nb = nb_model.predict(X_valid)\n",
        "print(\"\\nNaive Bayes Model:\")\n",
        "print(\"Accuracy:\", accuracy_score(y_valid, predictions_nb))\n",
        "print(classification_report(y_valid, predictions_nb))"
      ],
      "metadata": {
        "id": "GXp2nrS6aWu-",
        "colab": {
          "base_uri": "https://localhost:8080/"
        },
        "outputId": "0d1047b5-35bb-41a8-9b46-6347446edb57"
      },
      "execution_count": null,
      "outputs": [
        {
          "output_type": "stream",
          "name": "stdout",
          "text": [
            "\n",
            "Naive Bayes Model:\n",
            "Accuracy: 0.8321995464852607\n",
            "              precision    recall  f1-score   support\n",
            "\n",
            "           0       0.90      0.89      0.90       370\n",
            "           1       0.48      0.51      0.49        71\n",
            "\n",
            "    accuracy                           0.83       441\n",
            "   macro avg       0.69      0.70      0.70       441\n",
            "weighted avg       0.84      0.83      0.83       441\n",
            "\n"
          ]
        }
      ]
    },
    {
      "cell_type": "code",
      "source": [
        "dt_model = DecisionTreeClassifier(random_state=5)\n",
        "dt_model.fit(X, y)\n",
        "predictions_dt = dt_model.predict(X_valid)\n",
        "print(\"\\nDecision Tree Model:\")\n",
        "print(\"Accuracy:\", accuracy_score(y_valid, predictions_dt))\n",
        "print(classification_report(y_valid, predictions_dt))"
      ],
      "metadata": {
        "id": "0bBURBuOaJR-",
        "colab": {
          "base_uri": "https://localhost:8080/"
        },
        "outputId": "dcef7d8f-31ea-4d79-f2b5-da211c8bf1b0"
      },
      "execution_count": null,
      "outputs": [
        {
          "output_type": "stream",
          "name": "stdout",
          "text": [
            "\n",
            "Decision Tree Model:\n",
            "Accuracy: 0.8095238095238095\n",
            "              precision    recall  f1-score   support\n",
            "\n",
            "           0       0.88      0.89      0.89       370\n",
            "           1       0.40      0.38      0.39        71\n",
            "\n",
            "    accuracy                           0.81       441\n",
            "   macro avg       0.64      0.64      0.64       441\n",
            "weighted avg       0.81      0.81      0.81       441\n",
            "\n"
          ]
        }
      ]
    },
    {
      "cell_type": "code",
      "source": [
        "rf_model = RandomForestClassifier(random_state=5)\n",
        "rf_model.fit(X, y)\n",
        "predictions_rf = rf_model.predict(X_valid)\n",
        "print(\"Accuracy:\", accuracy_score(y_valid, predictions_rf))\n",
        "print(classification_report(y_valid, predictions_rf))"
      ],
      "metadata": {
        "id": "LCt_oIgcwWR-",
        "colab": {
          "base_uri": "https://localhost:8080/"
        },
        "outputId": "bde33514-62ef-448f-ffab-b86e442381d2"
      },
      "execution_count": null,
      "outputs": [
        {
          "output_type": "stream",
          "name": "stdout",
          "text": [
            "Accuracy: 0.8571428571428571\n",
            "              precision    recall  f1-score   support\n",
            "\n",
            "           0       0.87      0.98      0.92       370\n",
            "           1       0.65      0.24      0.35        71\n",
            "\n",
            "    accuracy                           0.86       441\n",
            "   macro avg       0.76      0.61      0.64       441\n",
            "weighted avg       0.84      0.86      0.83       441\n",
            "\n"
          ]
        }
      ]
    },
    {
      "cell_type": "code",
      "source": [],
      "metadata": {
        "id": "U-A4_2rrwWTw"
      },
      "execution_count": null,
      "outputs": []
    },
    {
      "cell_type": "code",
      "source": [],
      "metadata": {
        "id": "6Fk3hLuNwWWS"
      },
      "execution_count": null,
      "outputs": []
    }
  ]
}