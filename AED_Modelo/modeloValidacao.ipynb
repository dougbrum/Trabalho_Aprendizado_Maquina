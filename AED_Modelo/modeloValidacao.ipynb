{
  "nbformat": 4,
  "nbformat_minor": 0,
  "metadata": {
    "colab": {
      "provenance": []
    },
    "kernelspec": {
      "name": "python3",
      "display_name": "Python 3"
    },
    "language_info": {
      "name": "python"
    }
  },
  "cells": [
    {
      "cell_type": "markdown",
      "source": [
        "#Importações"
      ],
      "metadata": {
        "id": "g1DZQFyBQBwy"
      }
    },
    {
      "cell_type": "code",
      "execution_count": 2,
      "metadata": {
        "id": "KTUyECYyVUR9"
      },
      "outputs": [],
      "source": [
        "import pandas as pd\n",
        "import numpy as np\n",
        "import seaborn as sns\n",
        "import matplotlib.pyplot as plt\n",
        "from datetime import date\n",
        "from sklearn.model_selection import train_test_split, GridSearchCV\n",
        "from sklearn.ensemble import RandomForestClassifier, GradientBoostingClassifier\n",
        "from sklearn.metrics import classification_report\n",
        "from sklearn.preprocessing import StandardScaler\n",
        "from sklearn.linear_model import LogisticRegression\n",
        "from sklearn.tree import DecisionTreeClassifier\n",
        "from sklearn.metrics import accuracy_score\n",
        "from sklearn.svm import SVC\n",
        "from sklearn import metrics\n",
        "from sklearn.feature_selection import RFE\n",
        "from imblearn.over_sampling import SMOTE\n",
        "from sklearn.model_selection import cross_val_score\n"
      ]
    },
    {
      "cell_type": "code",
      "source": [],
      "metadata": {
        "id": "gZso5uOet2e-"
      },
      "execution_count": null,
      "outputs": []
    },
    {
      "cell_type": "code",
      "source": [
        "from google.colab import drive\n",
        "drive.mount('/content/drive')"
      ],
      "metadata": {
        "colab": {
          "base_uri": "https://localhost:8080/"
        },
        "id": "GEt_aSXTt28M",
        "outputId": "63700455-e562-408c-a378-8df70ad63519"
      },
      "execution_count": 4,
      "outputs": [
        {
          "output_type": "stream",
          "name": "stdout",
          "text": [
            "Mounted at /content/drive\n"
          ]
        }
      ]
    },
    {
      "cell_type": "code",
      "source": [
        "# Carregar o dataset\n",
        "marketing_data = pd.read_csv('/content/drive/MyDrive/AM/marketing_campaign.csv')"
      ],
      "metadata": {
        "id": "rewEW654VZRQ"
      },
      "execution_count": 5,
      "outputs": []
    },
    {
      "cell_type": "code",
      "source": [
        "# Transformações nos Dados\n",
        "marketing_data['Age'] = date.today().year - marketing_data['Year_Birth']\n",
        "marketing_data['Customer_Days'] = (pd.to_datetime('now', utc=True) - pd.to_datetime(marketing_data['Dt_Customer'], utc=True)).dt.days"
      ],
      "metadata": {
        "id": "PFucIKw2VZUx"
      },
      "execution_count": 6,
      "outputs": []
    },
    {
      "cell_type": "code",
      "source": [
        "# Conversão de variáveis categóricas usando variáveis dummy\n",
        "marketing_data = pd.get_dummies(marketing_data, columns=['Marital_Status', 'Education'])\n"
      ],
      "metadata": {
        "id": "c6zXTLxPVZY1"
      },
      "execution_count": 7,
      "outputs": []
    },
    {
      "cell_type": "code",
      "source": [
        "# Remover colunas que não serão mais usadas\n",
        "columns_to_drop = ['Year_Birth', 'Dt_Customer']\n",
        "marketing_data.drop(columns=columns_to_drop, inplace=True)\n"
      ],
      "metadata": {
        "id": "GrFz0YgfVZcX"
      },
      "execution_count": 8,
      "outputs": []
    },
    {
      "cell_type": "code",
      "source": [
        "# Tratamento de outliers e dados faltantes para 'Income' e 'Age'\n",
        "Q1_income = marketing_data['Income'].quantile(0.25)\n",
        "Q3_income = marketing_data['Income'].quantile(0.75)\n",
        "IQR_income = Q3_income - Q1_income\n",
        "marketing_data = marketing_data[(marketing_data['Income'] < Q3_income + 1.5 * IQR_income) & (marketing_data['Income'] > Q1_income - 1.5 * IQR_income)]\n",
        "\n",
        "Q1_age = marketing_data['Age'].quantile(0.25)\n",
        "Q3_age = marketing_data['Age'].quantile(0.75)\n",
        "IQR_age = Q3_age - Q1_age\n",
        "marketing_data = marketing_data[(marketing_data['Age'] < Q3_age + 1.5 * IQR_age) & (marketing_data['Age'] > Q1_age - 1.5 * IQR_age)]\n"
      ],
      "metadata": {
        "id": "Q71r-IMfVZeT"
      },
      "execution_count": 9,
      "outputs": []
    },
    {
      "cell_type": "code",
      "source": [
        "# Dividir o dataset em características e rótulos\n",
        "features = marketing_data.drop(['Response'], axis=1)\n",
        "labels = marketing_data['Response']\n"
      ],
      "metadata": {
        "id": "3a3mjBH4VZgX"
      },
      "execution_count": 10,
      "outputs": []
    },
    {
      "cell_type": "code",
      "source": [
        "# Escalamento dos dados\n",
        "scaler = StandardScaler()\n",
        "features_scaled = scaler.fit_transform(features)\n"
      ],
      "metadata": {
        "id": "dMyQVrNhVZiX"
      },
      "execution_count": 11,
      "outputs": []
    },
    {
      "cell_type": "code",
      "source": [
        "# Dividir o dataset em conjunto de treino e teste\n",
        "X_train, X_test, y_train, y_test = train_test_split(features_scaled, labels, test_size=0.40, random_state=5)\n"
      ],
      "metadata": {
        "id": "hBTlD7V4VZlH"
      },
      "execution_count": 12,
      "outputs": []
    },
    {
      "cell_type": "code",
      "source": [
        "# Aplicando SMOTE para balancear o dataset\n",
        "smote = SMOTE(random_state=5)\n",
        "X_train_smote, y_train_smote = smote.fit_resample(X_train, y_train)"
      ],
      "metadata": {
        "id": "quC9eobbM5jW"
      },
      "execution_count": 13,
      "outputs": []
    },
    {
      "cell_type": "code",
      "source": [
        "# Regressão Logística\n",
        "param_grid_lr = {'C': [0.01, 0.1, 1, 10], 'penalty': ['l2'], 'solver': ['liblinear', 'lbfgs']}\n",
        "lr_model = GridSearchCV(LogisticRegression(random_state=5), param_grid=param_grid_lr, cv=5, verbose=1)\n",
        "lr_model.fit(X_train_smote, y_train_smote)\n",
        "predictions_lr = lr_model.predict(X_test)\n",
        "print(\"\\nLogistic Regression Model:\")\n",
        "print(\"Accuracy:\", accuracy_score(y_test, predictions_lr))\n",
        "print(classification_report(y_test, predictions_lr))\n"
      ],
      "metadata": {
        "id": "I5th71r1V1rW",
        "colab": {
          "base_uri": "https://localhost:8080/"
        },
        "outputId": "b1f7f560-1dc6-40a6-dd38-c6ebf61b22ab"
      },
      "execution_count": 14,
      "outputs": [
        {
          "output_type": "stream",
          "name": "stdout",
          "text": [
            "Fitting 5 folds for each of 8 candidates, totalling 40 fits\n",
            "\n",
            "Logistic Regression Model:\n",
            "Accuracy: 0.8163265306122449\n",
            "              precision    recall  f1-score   support\n",
            "\n",
            "           0       0.94      0.84      0.89       750\n",
            "           1       0.43      0.70      0.53       132\n",
            "\n",
            "    accuracy                           0.82       882\n",
            "   macro avg       0.69      0.77      0.71       882\n",
            "weighted avg       0.86      0.82      0.83       882\n",
            "\n"
          ]
        }
      ]
    },
    {
      "cell_type": "code",
      "source": [
        "scores_lr = cross_val_score(lr_model.best_estimator_, features_scaled, labels, cv=5)\n",
        "print(\"\\nRegressão Logística - Média da Acurácia com CV:\", scores_lr.mean())\n",
        "print(\"Desvio padrão da acurácia com CV:\", scores_lr.std())\n"
      ],
      "metadata": {
        "colab": {
          "base_uri": "https://localhost:8080/"
        },
        "id": "k7sU8ZnntkXz",
        "outputId": "c7d8a00e-a155-416c-b8df-16092b12d2ac"
      },
      "execution_count": 15,
      "outputs": [
        {
          "output_type": "stream",
          "name": "stdout",
          "text": [
            "\n",
            "Regressão Logística - Média da Acurácia com CV: 0.8893424036281179\n",
            "Desvio padrão da acurácia com CV: 0.006316729377407769\n"
          ]
        }
      ]
    },
    {
      "cell_type": "code",
      "source": [
        "# Árvore de Decisão\n",
        "param_grid_dt = {'max_depth': [None, 10, 20, 30], 'min_samples_split': [2, 4, 6], 'min_samples_leaf': [1, 2, 3]}\n",
        "dt_model = GridSearchCV(DecisionTreeClassifier(random_state=5), param_grid=param_grid_dt, cv=5, verbose=1)\n",
        "dt_model.fit(X_train_smote, y_train_smote)\n",
        "predictions_dt = dt_model.predict(X_test)\n",
        "print(\"\\nDecision Tree Model:\")\n",
        "print(\"Accuracy:\", accuracy_score(y_test, predictions_dt))\n",
        "print(classification_report(y_test, predictions_dt))"
      ],
      "metadata": {
        "id": "bXz_nD4KV1tt",
        "colab": {
          "base_uri": "https://localhost:8080/"
        },
        "outputId": "85f6bb8c-757b-49c3-f611-4a9915dba1e6"
      },
      "execution_count": 16,
      "outputs": [
        {
          "output_type": "stream",
          "name": "stdout",
          "text": [
            "Fitting 5 folds for each of 36 candidates, totalling 180 fits\n",
            "\n",
            "Decision Tree Model:\n",
            "Accuracy: 0.808390022675737\n",
            "              precision    recall  f1-score   support\n",
            "\n",
            "           0       0.90      0.87      0.89       750\n",
            "           1       0.38      0.46      0.42       132\n",
            "\n",
            "    accuracy                           0.81       882\n",
            "   macro avg       0.64      0.67      0.65       882\n",
            "weighted avg       0.82      0.81      0.82       882\n",
            "\n"
          ]
        }
      ]
    },
    {
      "cell_type": "code",
      "source": [
        "scores_dt = cross_val_score(dt_model.best_estimator_, features_scaled, labels, cv=5)\n",
        "print(\"\\nÁrvore de Decisão - Média da Acurácia com CV:\", scores_dt.mean())\n",
        "print(\"Desvio padrão da acurácia com CV:\", scores_dt.std())\n"
      ],
      "metadata": {
        "colab": {
          "base_uri": "https://localhost:8080/"
        },
        "id": "Taly0dOItnpt",
        "outputId": "9976d4bf-fc6f-487b-fd63-d22838287142"
      },
      "execution_count": 17,
      "outputs": [
        {
          "output_type": "stream",
          "name": "stdout",
          "text": [
            "\n",
            "Árvore de Decisão - Média da Acurácia com CV: 0.8408163265306122\n",
            "Desvio padrão da acurácia com CV: 0.008163265306122438\n"
          ]
        }
      ]
    },
    {
      "cell_type": "code",
      "source": [
        "# SVM com K-Fold Cross Validation\n",
        "param_grid_svm = {'C': [0.1, 1, 10], 'gamma': [1, 0.1, 0.01], 'kernel': ['rbf', 'linear']}\n",
        "svm_model = GridSearchCV(SVC(), param_grid_svm, cv=5, verbose=1)\n",
        "svm_model.fit(X_train_smote, y_train_smote)\n",
        "predictions_svm = svm_model.predict(X_test)\n",
        "print(\"\\nSVM Model:\")\n",
        "print(\"Accuracy:\", accuracy_score(y_test, predictions_svm))\n",
        "print(classification_report(y_test, predictions_svm))"
      ],
      "metadata": {
        "id": "36BUwJSfV1wy",
        "colab": {
          "base_uri": "https://localhost:8080/"
        },
        "outputId": "02dfc56d-93c4-4986-d13c-d779812503f5"
      },
      "execution_count": 18,
      "outputs": [
        {
          "output_type": "stream",
          "name": "stdout",
          "text": [
            "Fitting 5 folds for each of 18 candidates, totalling 90 fits\n",
            "\n",
            "SVM Model:\n",
            "Accuracy: 0.8401360544217688\n",
            "              precision    recall  f1-score   support\n",
            "\n",
            "           0       0.87      0.95      0.91       750\n",
            "           1       0.43      0.20      0.27       132\n",
            "\n",
            "    accuracy                           0.84       882\n",
            "   macro avg       0.65      0.58      0.59       882\n",
            "weighted avg       0.80      0.84      0.81       882\n",
            "\n"
          ]
        }
      ]
    },
    {
      "cell_type": "code",
      "source": [
        "scores_svm = cross_val_score(svm_model.best_estimator_, features_scaled, labels, cv=5)\n",
        "print(\"\\nSVM - Média da Acurácia com CV:\", scores_svm.mean())\n",
        "print(\"Desvio padrão da acurácia com CV:\", scores_svm.std())\n"
      ],
      "metadata": {
        "colab": {
          "base_uri": "https://localhost:8080/"
        },
        "id": "3nK81yhWtq_7",
        "outputId": "1da31901-3109-4c84-d234-79bf087504df"
      },
      "execution_count": 19,
      "outputs": [
        {
          "output_type": "stream",
          "name": "stdout",
          "text": [
            "\n",
            "SVM - Média da Acurácia com CV: 0.8562358276643991\n",
            "Desvio padrão da acurácia com CV: 0.009249922020122979\n"
          ]
        }
      ]
    },
    {
      "cell_type": "code",
      "source": [
        "# RandomForest\n",
        "param_grid_rf = {'n_estimators': [50, 100, 200], 'max_features': ['sqrt'], 'max_depth': [None, 3, 5, 8], 'criterion': ['gini'], 'min_samples_split': [2, 3, 4]}\n",
        "rf_model = GridSearchCV(RandomForestClassifier(random_state=5), param_grid=param_grid_rf, cv=5, verbose=1)\n",
        "rf_model.fit(X_train_smote, y_train_smote)\n",
        "predictions_rf = rf_model.predict(X_test)\n",
        "print(\"RandomForest Model:\")\n",
        "print(\"Accuracy:\", accuracy_score(y_test, predictions_rf))\n",
        "print(classification_report(y_test, predictions_rf))\n",
        "feature_importance_rf = pd.DataFrame({'feature': features.columns, 'importance': rf_model.best_estimator_.feature_importances_}).sort_values('importance', ascending=False)\n",
        "print(feature_importance_rf.head(10))\n"
      ],
      "metadata": {
        "id": "s0AkdKQYVZnZ",
        "colab": {
          "base_uri": "https://localhost:8080/"
        },
        "outputId": "dbc4d47d-f30f-440f-a413-ac3068ab0ea3"
      },
      "execution_count": 20,
      "outputs": [
        {
          "output_type": "stream",
          "name": "stdout",
          "text": [
            "Fitting 5 folds for each of 36 candidates, totalling 180 fits\n",
            "RandomForest Model:\n",
            "Accuracy: 0.8764172335600907\n",
            "              precision    recall  f1-score   support\n",
            "\n",
            "           0       0.91      0.95      0.93       750\n",
            "           1       0.61      0.47      0.53       132\n",
            "\n",
            "    accuracy                           0.88       882\n",
            "   macro avg       0.76      0.71      0.73       882\n",
            "weighted avg       0.87      0.88      0.87       882\n",
            "\n",
            "                feature  importance\n",
            "4               Recency    0.090586\n",
            "25        Customer_Days    0.074798\n",
            "13  NumCatalogPurchases    0.068654\n",
            "15    NumWebVisitsMonth    0.057745\n",
            "14    NumStorePurchases    0.056647\n",
            "7       MntMeatProducts    0.052066\n",
            "5              MntWines    0.042046\n",
            "1                Income    0.041556\n",
            "3              Teenhome    0.041553\n",
            "12      NumWebPurchases    0.041245\n"
          ]
        }
      ]
    },
    {
      "cell_type": "code",
      "source": [
        "scores_rf = cross_val_score(rf_model.best_estimator_, features_scaled, labels, cv=5)\n",
        "print(\"\\nRandom Forest - Média da Acurácia com CV:\", scores_rf.mean())\n",
        "print(\"Desvio padrão da acurácia com CV:\", scores_rf.std())\n"
      ],
      "metadata": {
        "colab": {
          "base_uri": "https://localhost:8080/"
        },
        "id": "3fZyeTMktuPd",
        "outputId": "9263bfb9-2f90-41f9-f759-88a7d74e846e"
      },
      "execution_count": 21,
      "outputs": [
        {
          "output_type": "stream",
          "name": "stdout",
          "text": [
            "\n",
            "Random Forest - Média da Acurácia com CV: 0.8757369614512471\n",
            "Desvio padrão da acurácia com CV: 0.005442176870748306\n"
          ]
        }
      ]
    },
    {
      "cell_type": "markdown",
      "source": [
        "#Melhorando parâmetros com optuna"
      ],
      "metadata": {
        "id": "FuyXvQTzP7Co"
      }
    },
    {
      "cell_type": "code",
      "source": [
        "import optuna\n",
        "\n",
        "def objective(trial):\n",
        "    n_estimators = trial.suggest_int('n_estimators', 50, 300)\n",
        "    max_depth = trial.suggest_int('max_depth', 3, 30)\n",
        "    min_samples_split = trial.suggest_int('min_samples_split', 2, 10)\n",
        "    model = RandomForestClassifier(\n",
        "        n_estimators=n_estimators, max_depth=max_depth, min_samples_split=min_samples_split, random_state=5)\n",
        "    model.fit(X_train_smote, y_train_smote)\n",
        "    preds = model.predict(X_test)\n",
        "    accuracy = accuracy_score(y_test, preds)\n",
        "    return accuracy\n",
        "\n",
        "study = optuna.create_study(direction='maximize')\n",
        "study.optimize(objective, n_trials=50)\n",
        "\n",
        "print(\"Best trial:\")\n",
        "trial = study.best_trial\n",
        "print(\"  Accuracy: {}\".format(trial.value))\n",
        "print(\"  Params: \")\n",
        "for key, value in trial.params.items():\n",
        "    print(\"    {}: {}\".format(key, value))\n"
      ],
      "metadata": {
        "colab": {
          "base_uri": "https://localhost:8080/"
        },
        "id": "xBRaOsLbpz8V",
        "outputId": "a1b24c68-2911-437b-c345-98518cd03411"
      },
      "execution_count": 24,
      "outputs": [
        {
          "output_type": "stream",
          "name": "stderr",
          "text": [
            "[I 2023-12-13 19:53:15,749] A new study created in memory with name: no-name-33cef522-b1fd-459c-a11e-00cf138ebd55\n",
            "[I 2023-12-13 19:53:17,058] Trial 0 finished with value: 0.8707482993197279 and parameters: {'n_estimators': 135, 'max_depth': 8, 'min_samples_split': 5}. Best is trial 0 with value: 0.8707482993197279.\n",
            "[I 2023-12-13 19:53:19,302] Trial 1 finished with value: 0.8752834467120182 and parameters: {'n_estimators': 136, 'max_depth': 8, 'min_samples_split': 4}. Best is trial 1 with value: 0.8752834467120182.\n",
            "[I 2023-12-13 19:53:20,335] Trial 2 finished with value: 0.8764172335600907 and parameters: {'n_estimators': 126, 'max_depth': 26, 'min_samples_split': 8}. Best is trial 2 with value: 0.8764172335600907.\n",
            "[I 2023-12-13 19:53:21,258] Trial 3 finished with value: 0.873015873015873 and parameters: {'n_estimators': 143, 'max_depth': 7, 'min_samples_split': 8}. Best is trial 2 with value: 0.8764172335600907.\n",
            "[I 2023-12-13 19:53:22,987] Trial 4 finished with value: 0.8752834467120182 and parameters: {'n_estimators': 203, 'max_depth': 21, 'min_samples_split': 2}. Best is trial 2 with value: 0.8764172335600907.\n",
            "[I 2023-12-13 19:53:23,675] Trial 5 finished with value: 0.8752834467120182 and parameters: {'n_estimators': 105, 'max_depth': 28, 'min_samples_split': 8}. Best is trial 2 with value: 0.8764172335600907.\n",
            "[I 2023-12-13 19:53:25,110] Trial 6 finished with value: 0.8718820861678005 and parameters: {'n_estimators': 250, 'max_depth': 22, 'min_samples_split': 7}. Best is trial 2 with value: 0.8764172335600907.\n",
            "[I 2023-12-13 19:53:26,040] Trial 7 finished with value: 0.8764172335600907 and parameters: {'n_estimators': 160, 'max_depth': 19, 'min_samples_split': 2}. Best is trial 2 with value: 0.8764172335600907.\n",
            "[I 2023-12-13 19:53:26,551] Trial 8 finished with value: 0.8718820861678005 and parameters: {'n_estimators': 89, 'max_depth': 22, 'min_samples_split': 9}. Best is trial 2 with value: 0.8764172335600907.\n",
            "[I 2023-12-13 19:53:27,515] Trial 9 finished with value: 0.8707482993197279 and parameters: {'n_estimators': 170, 'max_depth': 17, 'min_samples_split': 4}. Best is trial 2 with value: 0.8764172335600907.\n",
            "[I 2023-12-13 19:53:27,865] Trial 10 finished with value: 0.8650793650793651 and parameters: {'n_estimators': 56, 'max_depth': 30, 'min_samples_split': 10}. Best is trial 2 with value: 0.8764172335600907.\n",
            "[I 2023-12-13 19:53:29,128] Trial 11 finished with value: 0.8718820861678005 and parameters: {'n_estimators': 214, 'max_depth': 15, 'min_samples_split': 2}. Best is trial 2 with value: 0.8764172335600907.\n",
            "[I 2023-12-13 19:53:30,706] Trial 12 finished with value: 0.873015873015873 and parameters: {'n_estimators': 274, 'max_depth': 26, 'min_samples_split': 6}. Best is trial 2 with value: 0.8764172335600907.\n",
            "[I 2023-12-13 19:53:31,743] Trial 13 finished with value: 0.8684807256235828 and parameters: {'n_estimators': 184, 'max_depth': 13, 'min_samples_split': 6}. Best is trial 2 with value: 0.8764172335600907.\n",
            "[I 2023-12-13 19:53:32,319] Trial 14 finished with value: 0.8775510204081632 and parameters: {'n_estimators': 94, 'max_depth': 25, 'min_samples_split': 3}. Best is trial 14 with value: 0.8775510204081632.\n",
            "[I 2023-12-13 19:53:32,887] Trial 15 finished with value: 0.873015873015873 and parameters: {'n_estimators': 93, 'max_depth': 25, 'min_samples_split': 4}. Best is trial 14 with value: 0.8775510204081632.\n",
            "[I 2023-12-13 19:53:33,070] Trial 16 finished with value: 0.828798185941043 and parameters: {'n_estimators': 50, 'max_depth': 3, 'min_samples_split': 10}. Best is trial 14 with value: 0.8775510204081632.\n",
            "[I 2023-12-13 19:53:33,943] Trial 17 finished with value: 0.8786848072562359 and parameters: {'n_estimators': 109, 'max_depth': 25, 'min_samples_split': 7}. Best is trial 17 with value: 0.8786848072562359.\n",
            "[I 2023-12-13 19:53:34,616] Trial 18 finished with value: 0.8775510204081632 and parameters: {'n_estimators': 77, 'max_depth': 30, 'min_samples_split': 3}. Best is trial 17 with value: 0.8786848072562359.\n",
            "[I 2023-12-13 19:53:35,521] Trial 19 finished with value: 0.8741496598639455 and parameters: {'n_estimators': 106, 'max_depth': 24, 'min_samples_split': 5}. Best is trial 17 with value: 0.8786848072562359.\n",
            "[I 2023-12-13 19:53:36,147] Trial 20 finished with value: 0.8718820861678005 and parameters: {'n_estimators': 73, 'max_depth': 12, 'min_samples_split': 7}. Best is trial 17 with value: 0.8786848072562359.\n",
            "[I 2023-12-13 19:53:36,814] Trial 21 finished with value: 0.8786848072562359 and parameters: {'n_estimators': 75, 'max_depth': 30, 'min_samples_split': 3}. Best is trial 17 with value: 0.8786848072562359.\n",
            "[I 2023-12-13 19:53:37,824] Trial 22 finished with value: 0.8707482993197279 and parameters: {'n_estimators': 117, 'max_depth': 28, 'min_samples_split': 3}. Best is trial 17 with value: 0.8786848072562359.\n",
            "[I 2023-12-13 19:53:38,411] Trial 23 finished with value: 0.8741496598639455 and parameters: {'n_estimators': 65, 'max_depth': 28, 'min_samples_split': 3}. Best is trial 17 with value: 0.8786848072562359.\n",
            "[I 2023-12-13 19:53:39,074] Trial 24 finished with value: 0.8718820861678005 and parameters: {'n_estimators': 91, 'max_depth': 24, 'min_samples_split': 5}. Best is trial 17 with value: 0.8786848072562359.\n",
            "[I 2023-12-13 19:53:39,943] Trial 25 finished with value: 0.8752834467120182 and parameters: {'n_estimators': 148, 'max_depth': 20, 'min_samples_split': 7}. Best is trial 17 with value: 0.8786848072562359.\n",
            "[I 2023-12-13 19:53:40,625] Trial 26 finished with value: 0.873015873015873 and parameters: {'n_estimators': 110, 'max_depth': 30, 'min_samples_split': 3}. Best is trial 17 with value: 0.8786848072562359.\n",
            "[I 2023-12-13 19:53:41,099] Trial 27 finished with value: 0.8673469387755102 and parameters: {'n_estimators': 78, 'max_depth': 27, 'min_samples_split': 4}. Best is trial 17 with value: 0.8786848072562359.\n",
            "[I 2023-12-13 19:53:42,824] Trial 28 finished with value: 0.8798185941043084 and parameters: {'n_estimators': 297, 'max_depth': 18, 'min_samples_split': 5}. Best is trial 28 with value: 0.8798185941043084.\n",
            "[I 2023-12-13 19:53:44,236] Trial 29 finished with value: 0.8843537414965986 and parameters: {'n_estimators': 242, 'max_depth': 18, 'min_samples_split': 5}. Best is trial 29 with value: 0.8843537414965986.\n",
            "[I 2023-12-13 19:53:45,921] Trial 30 finished with value: 0.873015873015873 and parameters: {'n_estimators': 291, 'max_depth': 18, 'min_samples_split': 6}. Best is trial 29 with value: 0.8843537414965986.\n",
            "[I 2023-12-13 19:53:47,351] Trial 31 finished with value: 0.8786848072562359 and parameters: {'n_estimators': 248, 'max_depth': 15, 'min_samples_split': 5}. Best is trial 29 with value: 0.8843537414965986.\n",
            "[I 2023-12-13 19:53:48,683] Trial 32 finished with value: 0.8673469387755102 and parameters: {'n_estimators': 234, 'max_depth': 12, 'min_samples_split': 5}. Best is trial 29 with value: 0.8843537414965986.\n",
            "[I 2023-12-13 19:53:50,917] Trial 33 finished with value: 0.8764172335600907 and parameters: {'n_estimators': 270, 'max_depth': 15, 'min_samples_split': 7}. Best is trial 29 with value: 0.8843537414965986.\n",
            "[I 2023-12-13 19:53:53,222] Trial 34 finished with value: 0.8775510204081632 and parameters: {'n_estimators': 298, 'max_depth': 10, 'min_samples_split': 4}. Best is trial 29 with value: 0.8843537414965986.\n",
            "[I 2023-12-13 19:53:54,695] Trial 35 finished with value: 0.8696145124716553 and parameters: {'n_estimators': 192, 'max_depth': 22, 'min_samples_split': 6}. Best is trial 29 with value: 0.8843537414965986.\n",
            "[I 2023-12-13 19:53:56,067] Trial 36 finished with value: 0.8809523809523809 and parameters: {'n_estimators': 232, 'max_depth': 17, 'min_samples_split': 8}. Best is trial 29 with value: 0.8843537414965986.\n",
            "[I 2023-12-13 19:53:57,338] Trial 37 finished with value: 0.8741496598639455 and parameters: {'n_estimators': 221, 'max_depth': 17, 'min_samples_split': 9}. Best is trial 29 with value: 0.8843537414965986.\n",
            "[I 2023-12-13 19:53:58,847] Trial 38 finished with value: 0.8832199546485261 and parameters: {'n_estimators': 265, 'max_depth': 19, 'min_samples_split': 8}. Best is trial 29 with value: 0.8843537414965986.\n",
            "[I 2023-12-13 19:54:00,399] Trial 39 finished with value: 0.8809523809523809 and parameters: {'n_estimators': 272, 'max_depth': 19, 'min_samples_split': 8}. Best is trial 29 with value: 0.8843537414965986.\n",
            "[I 2023-12-13 19:54:01,943] Trial 40 finished with value: 0.8832199546485261 and parameters: {'n_estimators': 263, 'max_depth': 20, 'min_samples_split': 8}. Best is trial 29 with value: 0.8843537414965986.\n",
            "[I 2023-12-13 19:54:03,483] Trial 41 finished with value: 0.8832199546485261 and parameters: {'n_estimators': 265, 'max_depth': 20, 'min_samples_split': 8}. Best is trial 29 with value: 0.8843537414965986.\n",
            "[I 2023-12-13 19:54:05,240] Trial 42 finished with value: 0.8741496598639455 and parameters: {'n_estimators': 253, 'max_depth': 20, 'min_samples_split': 9}. Best is trial 29 with value: 0.8843537414965986.\n",
            "[I 2023-12-13 19:54:07,224] Trial 43 finished with value: 0.8832199546485261 and parameters: {'n_estimators': 236, 'max_depth': 21, 'min_samples_split': 8}. Best is trial 29 with value: 0.8843537414965986.\n",
            "[I 2023-12-13 19:54:09,443] Trial 44 finished with value: 0.8820861678004536 and parameters: {'n_estimators': 262, 'max_depth': 21, 'min_samples_split': 8}. Best is trial 29 with value: 0.8843537414965986.\n",
            "[I 2023-12-13 19:54:11,211] Trial 45 finished with value: 0.8718820861678005 and parameters: {'n_estimators': 283, 'max_depth': 23, 'min_samples_split': 9}. Best is trial 29 with value: 0.8843537414965986.\n",
            "[I 2023-12-13 19:54:12,609] Trial 46 finished with value: 0.8843537414965986 and parameters: {'n_estimators': 240, 'max_depth': 20, 'min_samples_split': 8}. Best is trial 29 with value: 0.8843537414965986.\n",
            "[I 2023-12-13 19:54:13,796] Trial 47 finished with value: 0.8798185941043084 and parameters: {'n_estimators': 205, 'max_depth': 19, 'min_samples_split': 9}. Best is trial 29 with value: 0.8843537414965986.\n",
            "[I 2023-12-13 19:54:15,245] Trial 48 finished with value: 0.8741496598639455 and parameters: {'n_estimators': 256, 'max_depth': 16, 'min_samples_split': 10}. Best is trial 29 with value: 0.8843537414965986.\n",
            "[I 2023-12-13 19:54:16,659] Trial 49 finished with value: 0.8707482993197279 and parameters: {'n_estimators': 242, 'max_depth': 20, 'min_samples_split': 7}. Best is trial 29 with value: 0.8843537414965986.\n"
          ]
        },
        {
          "output_type": "stream",
          "name": "stdout",
          "text": [
            "Best trial:\n",
            "  Accuracy: 0.8843537414965986\n",
            "  Params: \n",
            "    n_estimators: 242\n",
            "    max_depth: 18\n",
            "    min_samples_split: 5\n"
          ]
        }
      ]
    },
    {
      "cell_type": "code",
      "source": [
        "# Parâmetros obtidos do Optuna\n",
        "optuna_params = {\n",
        "    'n_estimators': 206,\n",
        "    'max_depth': 24,\n",
        "    'min_samples_split': 8,\n",
        "    'random_state': 5\n",
        "}\n",
        "\n",
        "# Criação do modelo RandomForest com os parâmetros do Optuna\n",
        "rf_optuna_model = RandomForestClassifier(**optuna_params)\n",
        "\n",
        "# Treinando o modelo\n",
        "rf_optuna_model.fit(X_train_smote, y_train_smote)\n",
        "\n",
        "# Fazendo previsões no conjunto de teste\n",
        "predictions_rf_optuna = rf_optuna_model.predict(X_test)\n",
        "\n",
        "# Avaliando o modelo\n",
        "print(\"RandomForest Model with Optuna Parameters:\")\n",
        "print(\"Accuracy:\", accuracy_score(y_test, predictions_rf_optuna))\n",
        "print(classification_report(y_test, predictions_rf_optuna))\n",
        "\n",
        "# Importância das características (Feature Importance)\n",
        "feature_importance_rf_optuna = pd.DataFrame({\n",
        "    'feature': features.columns,\n",
        "    'importance': rf_optuna_model.feature_importances_\n",
        "}).sort_values('importance', ascending=False)\n",
        "\n",
        "print(feature_importance_rf_optuna.head(10))"
      ],
      "metadata": {
        "colab": {
          "base_uri": "https://localhost:8080/"
        },
        "id": "KaE_Zdc2qSqK",
        "outputId": "a4989fc4-ee5a-450c-e187-97e3c4740d36"
      },
      "execution_count": 60,
      "outputs": [
        {
          "output_type": "stream",
          "name": "stdout",
          "text": [
            "RandomForest Model with Optuna Parameters:\n",
            "Accuracy: 0.8832199546485261\n",
            "              precision    recall  f1-score   support\n",
            "\n",
            "           0       0.91      0.96      0.93       750\n",
            "           1       0.66      0.45      0.54       132\n",
            "\n",
            "    accuracy                           0.88       882\n",
            "   macro avg       0.78      0.71      0.74       882\n",
            "weighted avg       0.87      0.88      0.87       882\n",
            "\n",
            "                feature  importance\n",
            "4               Recency    0.095371\n",
            "25        Customer_Days    0.075780\n",
            "13  NumCatalogPurchases    0.070509\n",
            "15    NumWebVisitsMonth    0.053606\n",
            "14    NumStorePurchases    0.052535\n",
            "3              Teenhome    0.049254\n",
            "12      NumWebPurchases    0.046665\n",
            "5              MntWines    0.045623\n",
            "19         AcceptedCmp1    0.045384\n",
            "7       MntMeatProducts    0.043512\n"
          ]
        }
      ]
    }
  ]
}